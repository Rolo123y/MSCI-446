{
  "nbformat": 4,
  "nbformat_minor": 0,
  "metadata": {
    "colab": {
      "name": "Project.ipynb",
      "provenance": [],
      "collapsed_sections": [],
      "include_colab_link": true
    },
    "kernelspec": {
      "name": "python3",
      "display_name": "Python 3"
    }
  },
  "cells": [
    {
      "cell_type": "markdown",
      "metadata": {
        "id": "view-in-github",
        "colab_type": "text"
      },
      "source": [
        "<a href=\"https://colab.research.google.com/github/Rolo123y/MSCI-446/blob/main/Project.ipynb\" target=\"_parent\"><img src=\"https://colab.research.google.com/assets/colab-badge.svg\" alt=\"Open In Colab\"/></a>"
      ]
    },
    {
      "cell_type": "markdown",
      "metadata": {
        "id": "UCt6idY5_WP7"
      },
      "source": [
        "## Imports"
      ]
    },
    {
      "cell_type": "code",
      "metadata": {
        "id": "4nV07X5A_b3F"
      },
      "source": [
        "# Import general dataframe libraries \n",
        "import numpy as np\n",
        "import pandas as pd\n",
        "import matplotlib.pyplot as plt\n",
        "import math\n",
        "import random as rd\n",
        "import sklearn\n",
        "\n",
        "import seaborn as sns\n",
        "sns.set_style('whitegrid')\n",
        "%matplotlib inline\n",
        "\n",
        "# Machine Learning Imports\n",
        "from sklearn.linear_model import LogisticRegression\n",
        "from sklearn.model_selection import train_test_split\n",
        "\n",
        "# For evaluating our ML results\n",
        "from sklearn import metrics"
      ],
      "execution_count": 1,
      "outputs": []
    },
    {
      "cell_type": "code",
      "metadata": {
        "id": "LbI26JiNYT-e",
        "colab": {
          "base_uri": "https://localhost:8080/",
          "height": 479
        },
        "outputId": "4ac75aa5-2532-41c1-f1c8-5c0c6b70eabe"
      },
      "source": [
        "# Read dataset from google drive, import file: NCDB_2017.csv\n",
        "# Change directories as needed\n",
        "from google.colab import drive\n",
        "drive.mount('/content/gdrive')\n",
        "dataset = pd.read_csv('/content/gdrive/MyDrive/MSCI 446/NCDB_2017.csv')\n",
        "dataset"
      ],
      "execution_count": 2,
      "outputs": [
        {
          "output_type": "stream",
          "text": [
            "Mounted at /content/gdrive\n"
          ],
          "name": "stdout"
        },
        {
          "output_type": "stream",
          "text": [
            "/usr/local/lib/python3.7/dist-packages/IPython/core/interactiveshell.py:2718: DtypeWarning: Columns (1,2,5,12) have mixed types.Specify dtype option on import or set low_memory=False.\n",
            "  interactivity=interactivity, compiler=compiler, result=result)\n"
          ],
          "name": "stderr"
        },
        {
          "output_type": "execute_result",
          "data": {
            "text/html": [
              "<div>\n",
              "<style scoped>\n",
              "    .dataframe tbody tr th:only-of-type {\n",
              "        vertical-align: middle;\n",
              "    }\n",
              "\n",
              "    .dataframe tbody tr th {\n",
              "        vertical-align: top;\n",
              "    }\n",
              "\n",
              "    .dataframe thead th {\n",
              "        text-align: right;\n",
              "    }\n",
              "</style>\n",
              "<table border=\"1\" class=\"dataframe\">\n",
              "  <thead>\n",
              "    <tr style=\"text-align: right;\">\n",
              "      <th></th>\n",
              "      <th>C_YEAR</th>\n",
              "      <th>C_MNTH</th>\n",
              "      <th>C_WDAY</th>\n",
              "      <th>C_HOUR</th>\n",
              "      <th>C_SEV</th>\n",
              "      <th>C_VEHS</th>\n",
              "      <th>C_CONF</th>\n",
              "      <th>C_RCFG</th>\n",
              "      <th>C_WTHR</th>\n",
              "      <th>C_RSUR</th>\n",
              "      <th>C_RALN</th>\n",
              "      <th>C_TRAF</th>\n",
              "      <th>V_ID</th>\n",
              "      <th>V_TYPE</th>\n",
              "      <th>V_YEAR</th>\n",
              "      <th>P_ID</th>\n",
              "      <th>P_SEX</th>\n",
              "      <th>P_AGE</th>\n",
              "      <th>P_PSN</th>\n",
              "      <th>P_ISEV</th>\n",
              "      <th>P_SAFE</th>\n",
              "      <th>P_USER</th>\n",
              "      <th>C_CASE</th>\n",
              "    </tr>\n",
              "  </thead>\n",
              "  <tbody>\n",
              "    <tr>\n",
              "      <th>0</th>\n",
              "      <td>2017</td>\n",
              "      <td>1</td>\n",
              "      <td>1</td>\n",
              "      <td>10</td>\n",
              "      <td>2</td>\n",
              "      <td>1</td>\n",
              "      <td>02</td>\n",
              "      <td>03</td>\n",
              "      <td>1</td>\n",
              "      <td>3</td>\n",
              "      <td>2</td>\n",
              "      <td>18</td>\n",
              "      <td>01</td>\n",
              "      <td>01</td>\n",
              "      <td>UUUU</td>\n",
              "      <td>01</td>\n",
              "      <td>M</td>\n",
              "      <td>75</td>\n",
              "      <td>11</td>\n",
              "      <td>2</td>\n",
              "      <td>NN</td>\n",
              "      <td>1</td>\n",
              "      <td>2455950</td>\n",
              "    </tr>\n",
              "    <tr>\n",
              "      <th>1</th>\n",
              "      <td>2017</td>\n",
              "      <td>1</td>\n",
              "      <td>1</td>\n",
              "      <td>12</td>\n",
              "      <td>2</td>\n",
              "      <td>1</td>\n",
              "      <td>04</td>\n",
              "      <td>UU</td>\n",
              "      <td>1</td>\n",
              "      <td>5</td>\n",
              "      <td>1</td>\n",
              "      <td>UU</td>\n",
              "      <td>01</td>\n",
              "      <td>01</td>\n",
              "      <td>UUUU</td>\n",
              "      <td>01</td>\n",
              "      <td>F</td>\n",
              "      <td>21</td>\n",
              "      <td>11</td>\n",
              "      <td>2</td>\n",
              "      <td>02</td>\n",
              "      <td>1</td>\n",
              "      <td>2455959</td>\n",
              "    </tr>\n",
              "    <tr>\n",
              "      <th>2</th>\n",
              "      <td>2017</td>\n",
              "      <td>1</td>\n",
              "      <td>1</td>\n",
              "      <td>00</td>\n",
              "      <td>2</td>\n",
              "      <td>1</td>\n",
              "      <td>03</td>\n",
              "      <td>UU</td>\n",
              "      <td>7</td>\n",
              "      <td>3</td>\n",
              "      <td>1</td>\n",
              "      <td>UU</td>\n",
              "      <td>01</td>\n",
              "      <td>01</td>\n",
              "      <td>UUUU</td>\n",
              "      <td>01</td>\n",
              "      <td>F</td>\n",
              "      <td>34</td>\n",
              "      <td>11</td>\n",
              "      <td>2</td>\n",
              "      <td>02</td>\n",
              "      <td>1</td>\n",
              "      <td>2455998</td>\n",
              "    </tr>\n",
              "    <tr>\n",
              "      <th>3</th>\n",
              "      <td>2017</td>\n",
              "      <td>1</td>\n",
              "      <td>1</td>\n",
              "      <td>17</td>\n",
              "      <td>2</td>\n",
              "      <td>2</td>\n",
              "      <td>21</td>\n",
              "      <td>UU</td>\n",
              "      <td>1</td>\n",
              "      <td>1</td>\n",
              "      <td>1</td>\n",
              "      <td>18</td>\n",
              "      <td>01</td>\n",
              "      <td>01</td>\n",
              "      <td>UUUU</td>\n",
              "      <td>01</td>\n",
              "      <td>F</td>\n",
              "      <td>50</td>\n",
              "      <td>11</td>\n",
              "      <td>2</td>\n",
              "      <td>02</td>\n",
              "      <td>1</td>\n",
              "      <td>2456104</td>\n",
              "    </tr>\n",
              "    <tr>\n",
              "      <th>4</th>\n",
              "      <td>2017</td>\n",
              "      <td>1</td>\n",
              "      <td>1</td>\n",
              "      <td>17</td>\n",
              "      <td>2</td>\n",
              "      <td>2</td>\n",
              "      <td>21</td>\n",
              "      <td>UU</td>\n",
              "      <td>1</td>\n",
              "      <td>1</td>\n",
              "      <td>1</td>\n",
              "      <td>18</td>\n",
              "      <td>02</td>\n",
              "      <td>01</td>\n",
              "      <td>UUUU</td>\n",
              "      <td>01</td>\n",
              "      <td>M</td>\n",
              "      <td>63</td>\n",
              "      <td>11</td>\n",
              "      <td>1</td>\n",
              "      <td>NN</td>\n",
              "      <td>1</td>\n",
              "      <td>2456104</td>\n",
              "    </tr>\n",
              "    <tr>\n",
              "      <th>...</th>\n",
              "      <td>...</td>\n",
              "      <td>...</td>\n",
              "      <td>...</td>\n",
              "      <td>...</td>\n",
              "      <td>...</td>\n",
              "      <td>...</td>\n",
              "      <td>...</td>\n",
              "      <td>...</td>\n",
              "      <td>...</td>\n",
              "      <td>...</td>\n",
              "      <td>...</td>\n",
              "      <td>...</td>\n",
              "      <td>...</td>\n",
              "      <td>...</td>\n",
              "      <td>...</td>\n",
              "      <td>...</td>\n",
              "      <td>...</td>\n",
              "      <td>...</td>\n",
              "      <td>...</td>\n",
              "      <td>...</td>\n",
              "      <td>...</td>\n",
              "      <td>...</td>\n",
              "      <td>...</td>\n",
              "    </tr>\n",
              "    <tr>\n",
              "      <th>289836</th>\n",
              "      <td>2017</td>\n",
              "      <td>UU</td>\n",
              "      <td>U</td>\n",
              "      <td>UU</td>\n",
              "      <td>2</td>\n",
              "      <td>UU</td>\n",
              "      <td>UU</td>\n",
              "      <td>01</td>\n",
              "      <td>U</td>\n",
              "      <td>U</td>\n",
              "      <td>U</td>\n",
              "      <td>UU</td>\n",
              "      <td>11</td>\n",
              "      <td>01</td>\n",
              "      <td>UUUU</td>\n",
              "      <td>01</td>\n",
              "      <td>F</td>\n",
              "      <td>20</td>\n",
              "      <td>11</td>\n",
              "      <td>1</td>\n",
              "      <td>NN</td>\n",
              "      <td>1</td>\n",
              "      <td>2455828</td>\n",
              "    </tr>\n",
              "    <tr>\n",
              "      <th>289837</th>\n",
              "      <td>2017</td>\n",
              "      <td>UU</td>\n",
              "      <td>U</td>\n",
              "      <td>UU</td>\n",
              "      <td>2</td>\n",
              "      <td>UU</td>\n",
              "      <td>UU</td>\n",
              "      <td>01</td>\n",
              "      <td>U</td>\n",
              "      <td>U</td>\n",
              "      <td>U</td>\n",
              "      <td>UU</td>\n",
              "      <td>12</td>\n",
              "      <td>01</td>\n",
              "      <td>UUUU</td>\n",
              "      <td>01</td>\n",
              "      <td>F</td>\n",
              "      <td>47</td>\n",
              "      <td>11</td>\n",
              "      <td>1</td>\n",
              "      <td>NN</td>\n",
              "      <td>1</td>\n",
              "      <td>2455828</td>\n",
              "    </tr>\n",
              "    <tr>\n",
              "      <th>289838</th>\n",
              "      <td>2017</td>\n",
              "      <td>UU</td>\n",
              "      <td>U</td>\n",
              "      <td>UU</td>\n",
              "      <td>2</td>\n",
              "      <td>UU</td>\n",
              "      <td>UU</td>\n",
              "      <td>01</td>\n",
              "      <td>U</td>\n",
              "      <td>U</td>\n",
              "      <td>U</td>\n",
              "      <td>UU</td>\n",
              "      <td>13</td>\n",
              "      <td>07</td>\n",
              "      <td>UUUU</td>\n",
              "      <td>01</td>\n",
              "      <td>M</td>\n",
              "      <td>24</td>\n",
              "      <td>11</td>\n",
              "      <td>1</td>\n",
              "      <td>NN</td>\n",
              "      <td>1</td>\n",
              "      <td>2455828</td>\n",
              "    </tr>\n",
              "    <tr>\n",
              "      <th>289839</th>\n",
              "      <td>2017</td>\n",
              "      <td>UU</td>\n",
              "      <td>U</td>\n",
              "      <td>23</td>\n",
              "      <td>2</td>\n",
              "      <td>01</td>\n",
              "      <td>03</td>\n",
              "      <td>01</td>\n",
              "      <td>1</td>\n",
              "      <td>1</td>\n",
              "      <td>2</td>\n",
              "      <td>18</td>\n",
              "      <td>01</td>\n",
              "      <td>16</td>\n",
              "      <td>UUUU</td>\n",
              "      <td>01</td>\n",
              "      <td>M</td>\n",
              "      <td>45</td>\n",
              "      <td>96</td>\n",
              "      <td>2</td>\n",
              "      <td>09</td>\n",
              "      <td>U</td>\n",
              "      <td>2570233</td>\n",
              "    </tr>\n",
              "    <tr>\n",
              "      <th>289840</th>\n",
              "      <td>2017</td>\n",
              "      <td>UU</td>\n",
              "      <td>U</td>\n",
              "      <td>23</td>\n",
              "      <td>2</td>\n",
              "      <td>01</td>\n",
              "      <td>03</td>\n",
              "      <td>01</td>\n",
              "      <td>1</td>\n",
              "      <td>1</td>\n",
              "      <td>2</td>\n",
              "      <td>18</td>\n",
              "      <td>01</td>\n",
              "      <td>16</td>\n",
              "      <td>UUUU</td>\n",
              "      <td>02</td>\n",
              "      <td>F</td>\n",
              "      <td>45</td>\n",
              "      <td>96</td>\n",
              "      <td>2</td>\n",
              "      <td>09</td>\n",
              "      <td>U</td>\n",
              "      <td>2570233</td>\n",
              "    </tr>\n",
              "  </tbody>\n",
              "</table>\n",
              "<p>289841 rows × 23 columns</p>\n",
              "</div>"
            ],
            "text/plain": [
              "        C_YEAR C_MNTH C_WDAY C_HOUR  C_SEV  ... P_PSN P_ISEV P_SAFE P_USER   C_CASE\n",
              "0         2017      1      1     10      2  ...    11      2     NN      1  2455950\n",
              "1         2017      1      1     12      2  ...    11      2     02      1  2455959\n",
              "2         2017      1      1     00      2  ...    11      2     02      1  2455998\n",
              "3         2017      1      1     17      2  ...    11      2     02      1  2456104\n",
              "4         2017      1      1     17      2  ...    11      1     NN      1  2456104\n",
              "...        ...    ...    ...    ...    ...  ...   ...    ...    ...    ...      ...\n",
              "289836    2017     UU      U     UU      2  ...    11      1     NN      1  2455828\n",
              "289837    2017     UU      U     UU      2  ...    11      1     NN      1  2455828\n",
              "289838    2017     UU      U     UU      2  ...    11      1     NN      1  2455828\n",
              "289839    2017     UU      U     23      2  ...    96      2     09      U  2570233\n",
              "289840    2017     UU      U     23      2  ...    96      2     09      U  2570233\n",
              "\n",
              "[289841 rows x 23 columns]"
            ]
          },
          "metadata": {
            "tags": []
          },
          "execution_count": 2
        }
      ]
    },
    {
      "cell_type": "code",
      "metadata": {
        "id": "8GPKxweuaQXZ",
        "colab": {
          "base_uri": "https://localhost:8080/"
        },
        "outputId": "99f04d1b-e20a-4ba7-d12e-5495ffdfdd67"
      },
      "source": [
        "# cleaning the C_SEV Data to remove unwanted 'U' and 'X' values\n",
        "df = dataset\n",
        "# Choose only relavant values in Severity column \n",
        "# where 1 = No injury, 2 = injury, 3 = Fatality\n",
        "df = df[df.P_ISEV.isin([\"1\",\"2\",\"3\"])]\n",
        "# Category severity into binary variable  \n",
        "# where 0 = no fataility, 1 = fatality\n",
        "indicies = df[df.P_ISEV.isin([\"1\",\"2\"])].index\n",
        "df.P_ISEV[indicies] = 0\n",
        "indicies = df[df.P_ISEV.isin([\"3\"])].index\n",
        "df.P_ISEV[indicies] = 1\n"
      ],
      "execution_count": 3,
      "outputs": [
        {
          "output_type": "stream",
          "text": [
            "/usr/local/lib/python3.7/dist-packages/ipykernel_launcher.py:9: SettingWithCopyWarning: \n",
            "A value is trying to be set on a copy of a slice from a DataFrame\n",
            "\n",
            "See the caveats in the documentation: https://pandas.pydata.org/pandas-docs/stable/user_guide/indexing.html#returning-a-view-versus-a-copy\n",
            "  if __name__ == '__main__':\n",
            "/usr/local/lib/python3.7/dist-packages/pandas/core/series.py:1060: SettingWithCopyWarning: \n",
            "A value is trying to be set on a copy of a slice from a DataFrame\n",
            "\n",
            "See the caveats in the documentation: https://pandas.pydata.org/pandas-docs/stable/user_guide/indexing.html#returning-a-view-versus-a-copy\n",
            "  self._set_labels(key, value)\n",
            "/usr/local/lib/python3.7/dist-packages/IPython/core/interactiveshell.py:2882: SettingWithCopyWarning: \n",
            "A value is trying to be set on a copy of a slice from a DataFrame\n",
            "\n",
            "See the caveats in the documentation: https://pandas.pydata.org/pandas-docs/stable/user_guide/indexing.html#returning-a-view-versus-a-copy\n",
            "  exec(code_obj, self.user_global_ns, self.user_ns)\n",
            "/usr/local/lib/python3.7/dist-packages/ipykernel_launcher.py:11: SettingWithCopyWarning: \n",
            "A value is trying to be set on a copy of a slice from a DataFrame\n",
            "\n",
            "See the caveats in the documentation: https://pandas.pydata.org/pandas-docs/stable/user_guide/indexing.html#returning-a-view-versus-a-copy\n",
            "  # This is added back by InteractiveShellApp.init_path()\n"
          ],
          "name": "stderr"
        }
      ]
    },
    {
      "cell_type": "markdown",
      "metadata": {
        "id": "lQu18hF4DSyw"
      },
      "source": [
        "#### Overall Distribution of fatalities"
      ]
    },
    {
      "cell_type": "code",
      "metadata": {
        "colab": {
          "base_uri": "https://localhost:8080/",
          "height": 283
        },
        "id": "f9HWocDnDaGG",
        "outputId": "9fa70162-1f32-464c-fe4a-aeffd33b3742"
      },
      "source": [
        "# Calculate number of fatalities and non-fatalities\n",
        "overall = df.groupby(['P_ISEV']).size()\n",
        "overall.plot.bar()\n",
        "plt.xticks(np.arange(2), ('No Fatality', 'Fatality'), rotation = 'horizontal')\n",
        "plt.xlabel('')\n",
        "plt.ylabel('Count')\n",
        "plt.text(0, overall[0],str(overall[0]), fontweight='bold',ha='center', va='bottom')\n",
        "plt.text(1, overall[1],str(overall[1]), fontweight='bold',ha='center', va='bottom')"
      ],
      "execution_count": 4,
      "outputs": [
        {
          "output_type": "execute_result",
          "data": {
            "text/plain": [
              "Text(1, 1856, '1856')"
            ]
          },
          "metadata": {
            "tags": []
          },
          "execution_count": 4
        },
        {
          "output_type": "display_data",
          "data": {
            "image/png": "[encoded data removed]",
            "text/plain": [
              "<Figure size 432x288 with 1 Axes>"
            ]
          },
          "metadata": {
            "tags": [],
            "needs_background": "light"
          }
        }
      ]
    },
    {
      "cell_type": "markdown",
      "metadata": {
        "id": "4AD_8lHqMgC0"
      },
      "source": [
        "## Headers to use as features\n",
        "C_MNTH\n",
        "C_CONF\n",
        "C_RCFG\n",
        "C_WTHR\n",
        "C_RSUR\n",
        "C_RALN\n",
        "V_TYPE\n",
        "P_SEX\n",
        "P_USER\n",
        "(*P_AGE*)"
      ]
    },
    {
      "cell_type": "markdown",
      "metadata": {
        "id": "o_necXHjSa2M"
      },
      "source": [
        "## Data visualizations for each category"
      ]
    },
    {
      "cell_type": "code",
      "metadata": {
        "id": "wDPhOTz-Y3sz"
      },
      "source": [
        "## Functions to generate data formats\n",
        "# Convert data type in a column to numeric\n",
        "def toNum(df, categ):\n",
        "    df.loc[:, categ] = pd.to_numeric(df[categ])\n",
        "    return df\n",
        "# Calculate total fatalities in each category of a given dataframe\n",
        "def calFatal(df, categ):\n",
        "    fatalCateg = df[df.P_ISEV.isin([1])].value_counts(subset= categ, sort = False)\n",
        "    return fatalCateg\n",
        "\n",
        "# Calculate total collisions in each category of a given dataframe\n",
        "def calTC(df, categ):\n",
        "    return df.value_counts(subset=categ, sort = False)\n"
      ],
      "execution_count": 5,
      "outputs": []
    },
    {
      "cell_type": "code",
      "metadata": {
        "colab": {
          "base_uri": "https://localhost:8080/",
          "height": 407
        },
        "id": "JpKkjclri8Xe",
        "outputId": "4725ab68-aaba-4164-a9a6-416b2b849771"
      },
      "source": [
        "## By Month\n",
        "# Remove non-valid data\n",
        "dfplotMonth = df[~df.C_MNTH.isin(['UU'])]\n",
        "# Convert data type to numeric\n",
        "dfplotMonth = toNum(dfplotMonth, \"C_MNTH\")\n",
        "## Calculate proportion using groupby category\n",
        "# Total Collisions\n",
        "tcMonth = calTC(dfplotMonth, \"C_MNTH\")\n",
        "# Total fatalities\n",
        "fatalMonth = calFatal(dfplotMonth, \"C_MNTH\")\n",
        "# Calculate proportion of fatalities to collisions in each category\n",
        "propMonth = fatalMonth/tcMonth \n",
        "# Plot the bar graph for fatality rate\n",
        "plt.subplot(1, 2, 1)\n",
        "propMonth.plot.bar()\n",
        "plt.xlabel('Month')\n",
        "plt.ylabel('Fatality rate')\n",
        "\n",
        "#Plot bar graph for count of falities\n",
        "plt.subplot(1, 2, 2)\n",
        "fatalMonth.plot.bar()\n",
        "plt.xlabel('Month')\n",
        "plt.ylabel('Fatality count')\n",
        "plt.tight_layout()\n"
      ],
      "execution_count": 6,
      "outputs": [
        {
          "output_type": "stream",
          "text": [
            "/usr/local/lib/python3.7/dist-packages/pandas/core/indexing.py:1743: SettingWithCopyWarning: \n",
            "A value is trying to be set on a copy of a slice from a DataFrame.\n",
            "Try using .loc[row_indexer,col_indexer] = value instead\n",
            "\n",
            "See the caveats in the documentation: https://pandas.pydata.org/pandas-docs/stable/user_guide/indexing.html#returning-a-view-versus-a-copy\n",
            "  isetter(ilocs[0], value)\n"
          ],
          "name": "stderr"
        },
        {
          "output_type": "display_data",
          "data": {
            "image/png": "[encoded data removed]",
            "text/plain": [
              "<Figure size 432x288 with 2 Axes>"
            ]
          },
          "metadata": {
            "tags": [],
            "needs_background": "light"
          }
        }
      ]
    },
    {
      "cell_type": "code",
      "metadata": {
        "colab": {
          "base_uri": "https://localhost:8080/",
          "height": 407
        },
        "id": "I7ss9YWeSWmy",
        "outputId": "3c82b823-9527-4241-a17e-82404faee180"
      },
      "source": [
        "## By week of day\n",
        "# Remove non-valid data\n",
        "dfplotWday = df[~df.C_WDAY.isin(['U','X'])]\n",
        "dfplotWday= toNum(dfplotWday, \"C_WDAY\")\n",
        "## Calculate proportion using groupby category\n",
        "tcWday = calTC(dfplotWday, \"C_WDAY\")\n",
        "fatalWday = calFatal(dfplotWday, \"C_WDAY\")\n",
        "propWday = fatalWday/tcWday\n",
        "# Plot the bar graph for fatality rate\n",
        "plt.subplot(1, 2, 1)\n",
        "propWday.plot.bar()\n",
        "plt.xlabel('Day of Week')\n",
        "plt.ylabel('Fatality rate')\n",
        "\n",
        "#Plot bar graph for count of falities\n",
        "plt.subplot(1, 2, 2)\n",
        "fatalWday.plot.bar()\n",
        "plt.xlabel('Day of Week')\n",
        "plt.ylabel('Fatality count')\n",
        "plt.tight_layout()"
      ],
      "execution_count": 7,
      "outputs": [
        {
          "output_type": "stream",
          "text": [
            "/usr/local/lib/python3.7/dist-packages/pandas/core/indexing.py:1743: SettingWithCopyWarning: \n",
            "A value is trying to be set on a copy of a slice from a DataFrame.\n",
            "Try using .loc[row_indexer,col_indexer] = value instead\n",
            "\n",
            "See the caveats in the documentation: https://pandas.pydata.org/pandas-docs/stable/user_guide/indexing.html#returning-a-view-versus-a-copy\n",
            "  isetter(ilocs[0], value)\n"
          ],
          "name": "stderr"
        },
        {
          "output_type": "display_data",
          "data": {
            "image/png": "[encoded data removed]",
            "text/plain": [
              "<Figure size 432x288 with 2 Axes>"
            ]
          },
          "metadata": {
            "tags": [],
            "needs_background": "light"
          }
        }
      ]
    },
    {
      "cell_type": "code",
      "metadata": {
        "colab": {
          "base_uri": "https://localhost:8080/",
          "height": 335
        },
        "id": "Uf0rtybfUxNk",
        "outputId": "aa5d5d14-0f77-4c8a-f7fb-4c19e5d73e2e"
      },
      "source": [
        "## By Collision hour\n",
        "# Remove non-valid data\n",
        "dfplotHOUR = df[~df.C_HOUR.isin(['UU','XX'])]\n",
        "dfplotHOUR= toNum(dfplotHOUR, \"C_HOUR\")\n",
        "## Calculate proportion using groupby category\n",
        "tcHOUR = calTC(dfplotHOUR, \"C_HOUR\")\n",
        "fatalHOUR = calFatal(dfplotHOUR, \"C_HOUR\")\n",
        "propHOUR = fatalHOUR/tcHOUR\n",
        "# Plot the bar graph for fatality rate\n",
        "plt.figure(figsize=(8,3))\n",
        "plt.subplot(1, 2, 1)\n",
        "propHOUR.plot.bar()\n",
        "plt.xlabel('Collision Hour')\n",
        "plt.ylabel('Fatality rate')\n",
        "\n",
        "#Plot bar graph for count of falities\n",
        "plt.subplot(1, 2, 2)\n",
        "fatalHOUR.plot.bar()\n",
        "plt.xlabel('Collision Hour')\n",
        "plt.ylabel('Fatality count')\n",
        "plt.tight_layout()"
      ],
      "execution_count": 8,
      "outputs": [
        {
          "output_type": "stream",
          "text": [
            "/usr/local/lib/python3.7/dist-packages/pandas/core/indexing.py:1743: SettingWithCopyWarning: \n",
            "A value is trying to be set on a copy of a slice from a DataFrame.\n",
            "Try using .loc[row_indexer,col_indexer] = value instead\n",
            "\n",
            "See the caveats in the documentation: https://pandas.pydata.org/pandas-docs/stable/user_guide/indexing.html#returning-a-view-versus-a-copy\n",
            "  isetter(ilocs[0], value)\n"
          ],
          "name": "stderr"
        },
        {
          "output_type": "display_data",
          "data": {
            "image/png": "[encoded data removed]",
            "text/plain": [
              "<Figure size 576x216 with 2 Axes>"
            ]
          },
          "metadata": {
            "tags": [],
            "needs_background": "light"
          }
        }
      ]
    },
    {
      "cell_type": "code",
      "metadata": {
        "colab": {
          "base_uri": "https://localhost:8080/",
          "height": 335
        },
        "id": "oBw2tNUiWLZi",
        "outputId": "9e1a4739-be75-4e8b-9e93-b4f5724e2616"
      },
      "source": [
        "## By collision configuration\n",
        "# Remove non-valid data\n",
        "dfplotCONF = df[~df.C_CONF.isin(['UU','XX','QQ'])]\n",
        "# Redefine data type\n",
        "dfplotCONF = toNum(dfplotCONF, \"C_CONF\")\n",
        "## Calculate proportion using groupby category\n",
        "tcCONF = calTC(dfplotCONF, \"C_CONF\")\n",
        "fatalCONF = calFatal(dfplotCONF, \"C_CONF\")\n",
        "propCONF = fatalCONF/tcCONF\n",
        "\n",
        "# Plot the bar graph for fatality rate\n",
        "plt.figure(figsize=(8,3))\n",
        "plt.subplot(1, 2, 1)\n",
        "propCONF.plot.bar()\n",
        "plt.xlabel('Collision Configuration')\n",
        "plt.ylabel('Fatality rate')\n",
        "\n",
        "#Plot bar graph for count of falities\n",
        "plt.subplot(1, 2, 2)\n",
        "fatalCONF.plot.bar()\n",
        "plt.xlabel('Collision Configuration')\n",
        "plt.ylabel('Fatality count')\n",
        "plt.tight_layout()"
      ],
      "execution_count": 9,
      "outputs": [
        {
          "output_type": "stream",
          "text": [
            "/usr/local/lib/python3.7/dist-packages/pandas/core/indexing.py:1743: SettingWithCopyWarning: \n",
            "A value is trying to be set on a copy of a slice from a DataFrame.\n",
            "Try using .loc[row_indexer,col_indexer] = value instead\n",
            "\n",
            "See the caveats in the documentation: https://pandas.pydata.org/pandas-docs/stable/user_guide/indexing.html#returning-a-view-versus-a-copy\n",
            "  isetter(ilocs[0], value)\n"
          ],
          "name": "stderr"
        },
        {
          "output_type": "display_data",
          "data": {
            "image/png": "[encoded data removed]",
            "text/plain": [
              "<Figure size 576x216 with 2 Axes>"
            ]
          },
          "metadata": {
            "tags": [],
            "needs_background": "light"
          }
        }
      ]
    },
    {
      "cell_type": "code",
      "metadata": {
        "colab": {
          "base_uri": "https://localhost:8080/",
          "height": 335
        },
        "id": "ZNLCy_nyc6KK",
        "outputId": "dbc00523-fdec-4598-ad7a-2f5d4a8f7877"
      },
      "source": [
        "## By road configuration\n",
        "# Remove non-valid data\n",
        "dfplotRCFG = df[~df.C_RCFG.isin(['UU','XX','QQ'])]\n",
        "# Redefine data type\n",
        "dfplotRCFG = toNum(dfplotRCFG, \"C_RCFG\")\n",
        "## Calculate proportion using groupby category\n",
        "tcRCFG = calTC(dfplotRCFG, \"C_RCFG\")\n",
        "fatalRCFG = calFatal(dfplotRCFG, \"C_RCFG\")\n",
        "propRCFG = fatalRCFG/tcRCFG\n",
        "# Plot the bar graph for fatality rate\n",
        "plt.figure(figsize=(7,3))\n",
        "plt.subplot(1, 2, 1)\n",
        "propRCFG.plot.bar()\n",
        "plt.xlabel('Road Configuration')\n",
        "plt.ylabel('Fatality rate')\n",
        "\n",
        "#Plot bar graph for count of falities\n",
        "plt.subplot(1, 2, 2)\n",
        "fatalRCFG.plot.bar()\n",
        "plt.xlabel('Road Configuration')\n",
        "plt.ylabel('Fatality count')\n",
        "plt.tight_layout()\n"
      ],
      "execution_count": 10,
      "outputs": [
        {
          "output_type": "stream",
          "text": [
            "/usr/local/lib/python3.7/dist-packages/pandas/core/indexing.py:1743: SettingWithCopyWarning: \n",
            "A value is trying to be set on a copy of a slice from a DataFrame.\n",
            "Try using .loc[row_indexer,col_indexer] = value instead\n",
            "\n",
            "See the caveats in the documentation: https://pandas.pydata.org/pandas-docs/stable/user_guide/indexing.html#returning-a-view-versus-a-copy\n",
            "  isetter(ilocs[0], value)\n"
          ],
          "name": "stderr"
        },
        {
          "output_type": "display_data",
          "data": {
            "image/png": "[encoded data removed]",
            "text/plain": [
              "<Figure size 504x216 with 2 Axes>"
            ]
          },
          "metadata": {
            "tags": [],
            "needs_background": "light"
          }
        }
      ]
    },
    {
      "cell_type": "code",
      "metadata": {
        "colab": {
          "base_uri": "https://localhost:8080/",
          "height": 335
        },
        "id": "7W-zfQHreBEM",
        "outputId": "6f83773a-c796-4974-e40e-77b97bac99fe"
      },
      "source": [
        "## By weather condition\n",
        "# Remove non-valid data\n",
        "dfplotWTHR = df[~df.C_WTHR.isin(['U','X','Q'])]\n",
        "# Redefine data type\n",
        "dfplotWTHR = toNum(dfplotWTHR, \"C_WTHR\")\n",
        "## Calculate proportion using groupby category\n",
        "tcWTHR = calTC(dfplotWTHR, \"C_WTHR\")\n",
        "fatalWTHR = calFatal(dfplotWTHR, \"C_WTHR\") \n",
        "propWTHR = fatalWTHR/tcWTHR\n",
        "# Plot the bar graph for fatality rate\n",
        "plt.figure(figsize=(7,3))\n",
        "plt.subplot(1, 2, 1)\n",
        "propWTHR.plot.bar()\n",
        "plt.xlabel('Weather Condition')\n",
        "plt.ylabel('Fatality rate')\n",
        "\n",
        "plt.subplot(1, 2, 2)\n",
        "#Plot bar graph for count of falities\n",
        "fatalWTHR.plot.bar()\n",
        "plt.xlabel('Weather Condition')\n",
        "plt.ylabel('Fatality count')\n",
        "\n",
        "plt.tight_layout()"
      ],
      "execution_count": 11,
      "outputs": [
        {
          "output_type": "stream",
          "text": [
            "/usr/local/lib/python3.7/dist-packages/pandas/core/indexing.py:1743: SettingWithCopyWarning: \n",
            "A value is trying to be set on a copy of a slice from a DataFrame.\n",
            "Try using .loc[row_indexer,col_indexer] = value instead\n",
            "\n",
            "See the caveats in the documentation: https://pandas.pydata.org/pandas-docs/stable/user_guide/indexing.html#returning-a-view-versus-a-copy\n",
            "  isetter(ilocs[0], value)\n"
          ],
          "name": "stderr"
        },
        {
          "output_type": "display_data",
          "data": {
            "image/png": "[encoded data removed]",
            "text/plain": [
              "<Figure size 504x216 with 2 Axes>"
            ]
          },
          "metadata": {
            "tags": [],
            "needs_background": "light"
          }
        }
      ]
    },
    {
      "cell_type": "code",
      "metadata": {
        "colab": {
          "base_uri": "https://localhost:8080/",
          "height": 335
        },
        "id": "xBg8GTs7gLMr",
        "outputId": "fb820cb8-e351-4e6a-91bb-b84dcaadfff3"
      },
      "source": [
        "## By road surface\n",
        "# Remove non-valid data\n",
        "dfplotRSUR = df[~df.C_RSUR.isin(['U','X','Q'])]\n",
        "# Redefine data type\n",
        "dfplotRSUR = toNum(dfplotRSUR, \"C_RSUR\")\n",
        "## Calculate proportion using groupby category\n",
        "tcRSUR = calTC(dfplotRSUR, \"C_RSUR\")\n",
        "fatalRSUR = calFatal(dfplotRSUR, \"C_RSUR\") \n",
        "propRSUR = fatalRSUR/tcRSUR\n",
        "# Plot the bar graph for fatality rate\n",
        "plt.figure(figsize=(7,3))\n",
        "plt.subplot(1, 2, 1)\n",
        "propRSUR.plot.bar()\n",
        "plt.xlabel('Road Surface')\n",
        "plt.ylabel('Fatality rate')\n",
        "\n",
        "plt.subplot(1, 2, 2)\n",
        "#Plot bar graph for count of falities\n",
        "fatalRSUR.plot.bar()\n",
        "plt.xlabel('Road Surface')\n",
        "plt.ylabel('Fatality count')\n",
        "\n",
        "plt.tight_layout()"
      ],
      "execution_count": 12,
      "outputs": [
        {
          "output_type": "stream",
          "text": [
            "/usr/local/lib/python3.7/dist-packages/pandas/core/indexing.py:1743: SettingWithCopyWarning: \n",
            "A value is trying to be set on a copy of a slice from a DataFrame.\n",
            "Try using .loc[row_indexer,col_indexer] = value instead\n",
            "\n",
            "See the caveats in the documentation: https://pandas.pydata.org/pandas-docs/stable/user_guide/indexing.html#returning-a-view-versus-a-copy\n",
            "  isetter(ilocs[0], value)\n"
          ],
          "name": "stderr"
        },
        {
          "output_type": "display_data",
          "data": {
            "image/png": "[encoded data removed]",
            "text/plain": [
              "<Figure size 504x216 with 2 Axes>"
            ]
          },
          "metadata": {
            "tags": [],
            "needs_background": "light"
          }
        }
      ]
    },
    {
      "cell_type": "code",
      "metadata": {
        "colab": {
          "base_uri": "https://localhost:8080/",
          "height": 335
        },
        "id": "ArUY3JYUNa7u",
        "outputId": "6f1f689a-c443-417d-eca6-f4b6beeb7f16"
      },
      "source": [
        "## By road alignment\n",
        "# Remove non-valid data\n",
        "dfplotRALN = df[~df.C_RALN.isin(['U','X','Q'])]\n",
        "# Redefine data type\n",
        "dfplotRALN = toNum(dfplotRALN, \"C_RALN\")\n",
        "## Calculate proportion using groupby category\n",
        "tcRALN = calTC(dfplotRALN, \"C_RALN\")\n",
        "fatalRALN = calFatal(dfplotRALN, \"C_RALN\") \n",
        "propRALN = fatalRALN/tcRALN\n",
        "# Plot the bar graph for fatality rate\n",
        "plt.figure(figsize=(7,3))\n",
        "plt.subplot(1, 2, 1)\n",
        "propRALN.plot.bar()\n",
        "plt.xlabel('Road Alignment')\n",
        "plt.ylabel('Fatality rate')\n",
        "\n",
        "plt.subplot(1, 2, 2)\n",
        "#Plot bar graph for count of falities\n",
        "fatalRALN.plot.bar()\n",
        "plt.xlabel('Road Alignment')\n",
        "plt.ylabel('Fatality count')\n",
        "\n",
        "plt.tight_layout()"
      ],
      "execution_count": 13,
      "outputs": [
        {
          "output_type": "stream",
          "text": [
            "/usr/local/lib/python3.7/dist-packages/pandas/core/indexing.py:1743: SettingWithCopyWarning: \n",
            "A value is trying to be set on a copy of a slice from a DataFrame.\n",
            "Try using .loc[row_indexer,col_indexer] = value instead\n",
            "\n",
            "See the caveats in the documentation: https://pandas.pydata.org/pandas-docs/stable/user_guide/indexing.html#returning-a-view-versus-a-copy\n",
            "  isetter(ilocs[0], value)\n"
          ],
          "name": "stderr"
        },
        {
          "output_type": "display_data",
          "data": {
            "image/png": "[encoded data removed]",
            "text/plain": [
              "<Figure size 504x216 with 2 Axes>"
            ]
          },
          "metadata": {
            "tags": [],
            "needs_background": "light"
          }
        }
      ]
    },
    {
      "cell_type": "code",
      "metadata": {
        "colab": {
          "base_uri": "https://localhost:8080/",
          "height": 334
        },
        "id": "XK37TLOMiNji",
        "outputId": "a352ec7c-7e48-47b1-d450-b568e4d7c7c0"
      },
      "source": [
        "## By traffic control\n",
        "# Remove non-valid data\n",
        "dfplotTRAF = df[~df.C_TRAF.isin(['UU','XX','QQ'])]\n",
        "# Redefine data type\n",
        "dfplotTRAF = toNum(dfplotTRAF, \"C_TRAF\")\n",
        "## Calculate proportion using groupby category\n",
        "tcTRAF = calTC(dfplotTRAF, \"C_TRAF\")\n",
        "fatalTRAF= calFatal(dfplotTRAF, \"C_TRAF\") \n",
        "propTRAF = fatalTRAF/tcTRAF\n",
        "# Plot the bar graph for fatality rate\n",
        "plt.figure(figsize=(7,3))\n",
        "plt.subplot(1, 2, 1)\n",
        "propTRAF.plot.bar()\n",
        "plt.xlabel('Traffic Control')\n",
        "plt.ylabel('Fatality rate')\n",
        "\n",
        "plt.subplot(1, 2, 2)\n",
        "#Plot bar graph for count of falities\n",
        "fatalTRAF.plot.bar()\n",
        "plt.xlabel('Traffic Control')\n",
        "plt.ylabel('Fatality count')\n",
        "\n",
        "plt.tight_layout()"
      ],
      "execution_count": 14,
      "outputs": [
        {
          "output_type": "stream",
          "text": [
            "/usr/local/lib/python3.7/dist-packages/pandas/core/indexing.py:1743: SettingWithCopyWarning: \n",
            "A value is trying to be set on a copy of a slice from a DataFrame.\n",
            "Try using .loc[row_indexer,col_indexer] = value instead\n",
            "\n",
            "See the caveats in the documentation: https://pandas.pydata.org/pandas-docs/stable/user_guide/indexing.html#returning-a-view-versus-a-copy\n",
            "  isetter(ilocs[0], value)\n"
          ],
          "name": "stderr"
        },
        {
          "output_type": "display_data",
          "data": {
            "image/png": "[encoded data removed]",
            "text/plain": [
              "<Figure size 504x216 with 2 Axes>"
            ]
          },
          "metadata": {
            "tags": [],
            "needs_background": "light"
          }
        }
      ]
    },
    {
      "cell_type": "code",
      "metadata": {
        "colab": {
          "base_uri": "https://localhost:8080/",
          "height": 611
        },
        "id": "DizNOy3yeBWD",
        "outputId": "c0363218-1968-4004-c30d-683239e8bc52"
      },
      "source": [
        "## By vehicle type\n",
        "# Remove non-valid data\n",
        "dfplotVTYPE = df[~df.V_TYPE.isin(['UU','XX','QQ'])]\n",
        "# Convert \"NN\" to 0 which are pedestrians\n",
        "indicies = dfplotVTYPE[dfplotVTYPE.V_TYPE.isin(['NN'])].index\n",
        "dfplotVTYPE.V_TYPE[indicies] = 0\n",
        "dfplotVTYPE.V_TYPE\n",
        "# Redefine data type\n",
        "dfplotVTYPE = toNum(dfplotVTYPE, \"V_TYPE\")\n",
        "## Calculate proportion using groupby category\n",
        "plt.figure(figsize=(7,3))\n",
        "tcVTYPE = calTC(dfplotVTYPE, \"V_TYPE\")\n",
        "fatalVTYPE= calFatal(dfplotVTYPE, \"V_TYPE\") \n",
        "propVTYPE = fatalVTYPE/tcVTYPE\n",
        "# Plot the bar graph for fatality rate\n",
        "plt.subplot(1, 2, 1)\n",
        "propVTYPE.plot.bar()\n",
        "plt.xlabel('vehicle type')\n",
        "plt.ylabel('Fatality rate')\n",
        "\n",
        "plt.subplot(1, 2, 2)\n",
        "#Plot bar graph for count of falities\n",
        "fatalVTYPE.plot.bar()\n",
        "plt.xlabel('vehicle type')\n",
        "plt.ylabel('Fatality count')\n",
        "\n",
        "plt.tight_layout()"
      ],
      "execution_count": 15,
      "outputs": [
        {
          "output_type": "stream",
          "text": [
            "/usr/local/lib/python3.7/dist-packages/ipykernel_launcher.py:6: SettingWithCopyWarning: \n",
            "A value is trying to be set on a copy of a slice from a DataFrame\n",
            "\n",
            "See the caveats in the documentation: https://pandas.pydata.org/pandas-docs/stable/user_guide/indexing.html#returning-a-view-versus-a-copy\n",
            "  \n",
            "/usr/local/lib/python3.7/dist-packages/pandas/core/series.py:1060: SettingWithCopyWarning: \n",
            "A value is trying to be set on a copy of a slice from a DataFrame\n",
            "\n",
            "See the caveats in the documentation: https://pandas.pydata.org/pandas-docs/stable/user_guide/indexing.html#returning-a-view-versus-a-copy\n",
            "  self._set_labels(key, value)\n",
            "/usr/local/lib/python3.7/dist-packages/IPython/core/interactiveshell.py:2882: SettingWithCopyWarning: \n",
            "A value is trying to be set on a copy of a slice from a DataFrame\n",
            "\n",
            "See the caveats in the documentation: https://pandas.pydata.org/pandas-docs/stable/user_guide/indexing.html#returning-a-view-versus-a-copy\n",
            "  exec(code_obj, self.user_global_ns, self.user_ns)\n",
            "/usr/local/lib/python3.7/dist-packages/pandas/core/indexing.py:1743: SettingWithCopyWarning: \n",
            "A value is trying to be set on a copy of a slice from a DataFrame.\n",
            "Try using .loc[row_indexer,col_indexer] = value instead\n",
            "\n",
            "See the caveats in the documentation: https://pandas.pydata.org/pandas-docs/stable/user_guide/indexing.html#returning-a-view-versus-a-copy\n",
            "  isetter(ilocs[0], value)\n"
          ],
          "name": "stderr"
        },
        {
          "output_type": "display_data",
          "data": {
            "image/png": "[encoded data removed]",
            "text/plain": [
              "<Figure size 504x216 with 2 Axes>"
            ]
          },
          "metadata": {
            "tags": [],
            "needs_background": "light"
          }
        }
      ]
    },
    {
      "cell_type": "code",
      "metadata": {
        "colab": {
          "base_uri": "https://localhost:8080/",
          "height": 335
        },
        "id": "wJKFgyy4mQSG",
        "outputId": "882ff5c2-d0c9-4a21-80f4-e003fd91bcbd"
      },
      "source": [
        "## By person safety device\n",
        "# Remove non-valid data\n",
        "dfplotPSAFE = df[~df.P_SAFE.isin(['UU','XX','QQ','NN'])]\n",
        "# Redefine data type\n",
        "dfplotPSAFE = toNum(dfplotPSAFE, \"P_SAFE\")\n",
        "## Calculate proportion using groupby category\n",
        "tcPSAFE = calTC(dfplotPSAFE, \"P_SAFE\")\n",
        "fatalPSAFE= calFatal(dfplotPSAFE, \"P_SAFE\") \n",
        "propPSAFE = fatalPSAFE/tcPSAFE\n",
        "# Plot the bar graph for fatality rate\n",
        "plt.figure(figsize=(7,3))\n",
        "plt.subplot(1, 2, 1)\n",
        "propPSAFE.plot.bar()\n",
        "plt.xlabel('Person Safety Device')\n",
        "plt.ylabel('Fatality rate')\n",
        "\n",
        "plt.subplot(1, 2, 2)\n",
        "#Plot bar graph for count of falities\n",
        "fatalPSAFE.plot.bar()\n",
        "plt.xlabel('Person Safety Device')\n",
        "plt.ylabel('Fatality count')\n",
        "\n",
        "plt.tight_layout()"
      ],
      "execution_count": 16,
      "outputs": [
        {
          "output_type": "stream",
          "text": [
            "/usr/local/lib/python3.7/dist-packages/pandas/core/indexing.py:1743: SettingWithCopyWarning: \n",
            "A value is trying to be set on a copy of a slice from a DataFrame.\n",
            "Try using .loc[row_indexer,col_indexer] = value instead\n",
            "\n",
            "See the caveats in the documentation: https://pandas.pydata.org/pandas-docs/stable/user_guide/indexing.html#returning-a-view-versus-a-copy\n",
            "  isetter(ilocs[0], value)\n"
          ],
          "name": "stderr"
        },
        {
          "output_type": "display_data",
          "data": {
            "image/png": "[encoded data removed]",
            "text/plain": [
              "<Figure size 504x216 with 2 Axes>"
            ]
          },
          "metadata": {
            "tags": [],
            "needs_background": "light"
          }
        }
      ]
    },
    {
      "cell_type": "code",
      "metadata": {
        "colab": {
          "base_uri": "https://localhost:8080/",
          "height": 335
        },
        "id": "GSgwqdimmQl-",
        "outputId": "0031f3ab-f6a2-49f1-d6eb-8be61bba8ac5"
      },
      "source": [
        "## By person type\n",
        "# Remove non-valid data\n",
        "dfplotPUSER = df[~df.P_USER.isin(['U'])]\n",
        "# Redefine data type\n",
        "dfplotPUSER = toNum(dfplotPUSER, \"P_USER\")\n",
        "## Calculate proportion using groupby category\n",
        "tcPUSER = calTC(dfplotPUSER, \"P_USER\")\n",
        "fatalPUSER = calFatal(dfplotPUSER, \"P_USER\") \n",
        "propPUSER = fatalPUSER/tcPUSER\n",
        "# Plot the bar graph for fatality rate\n",
        "plt.figure(figsize=(7,3))\n",
        "plt.subplot(1, 2, 1)\n",
        "propPUSER.plot.bar()\n",
        "plt.xlabel('Person Type')\n",
        "plt.ylabel('Fatality rate')\n",
        "\n",
        "plt.subplot(1, 2, 2)\n",
        "#Plot bar graph for count of falities\n",
        "fatalPUSER.plot.bar()\n",
        "plt.xlabel('Person Type')\n",
        "plt.ylabel('Fatality count')\n",
        "\n",
        "plt.tight_layout()\n"
      ],
      "execution_count": 17,
      "outputs": [
        {
          "output_type": "stream",
          "text": [
            "/usr/local/lib/python3.7/dist-packages/pandas/core/indexing.py:1743: SettingWithCopyWarning: \n",
            "A value is trying to be set on a copy of a slice from a DataFrame.\n",
            "Try using .loc[row_indexer,col_indexer] = value instead\n",
            "\n",
            "See the caveats in the documentation: https://pandas.pydata.org/pandas-docs/stable/user_guide/indexing.html#returning-a-view-versus-a-copy\n",
            "  isetter(ilocs[0], value)\n"
          ],
          "name": "stderr"
        },
        {
          "output_type": "display_data",
          "data": {
            "image/png": "[encoded data removed]",
            "text/plain": [
              "<Figure size 504x216 with 2 Axes>"
            ]
          },
          "metadata": {
            "tags": [],
            "needs_background": "light"
          }
        }
      ]
    },
    {
      "cell_type": "code",
      "metadata": {
        "colab": {
          "base_uri": "https://localhost:8080/",
          "height": 225
        },
        "id": "ki6zLkpjz7gZ",
        "outputId": "38877725-a286-4ff0-cc51-4a2f3e605b75"
      },
      "source": [
        "## By sex\n",
        "# Remove non-valid data\n",
        "dfplotPSEX = df[~df.P_SEX.isin(['U','N','X'])]\n",
        "## Calculate proportion using groupby category\n",
        "tcPSEX = calTC(dfplotPSEX, \"P_SEX\")\n",
        "fatalPSEX = calFatal(dfplotPSEX, \"P_SEX\") \n",
        "propPSEX = fatalPSEX/tcPSEX\n",
        "# Plot the bar graph for fatality rate\n",
        "plt.figure(figsize=(7,3))\n",
        "plt.subplot(1, 2, 1)\n",
        "propPSEX.plot.bar()\n",
        "plt.xlabel('Person Sex')\n",
        "plt.ylabel('Fatality rate')\n",
        "\n",
        "plt.subplot(1, 2, 2)\n",
        "#Plot bar graph for count of falities\n",
        "fatalPSEX.plot.bar()\n",
        "plt.xlabel('Person Sex')\n",
        "plt.ylabel('Fatality count')\n",
        "\n",
        "plt.tight_layout()"
      ],
      "execution_count": 18,
      "outputs": [
        {
          "output_type": "display_data",
          "data": {
            "image/png": "[encoded data removed]",
            "text/plain": [
              "<Figure size 504x216 with 2 Axes>"
            ]
          },
          "metadata": {
            "tags": [],
            "needs_background": "light"
          }
        }
      ]
    },
    {
      "cell_type": "code",
      "metadata": {
        "colab": {
          "base_uri": "https://localhost:8080/",
          "height": 335
        },
        "id": "OEpSRxYHz7vB",
        "outputId": "f37842a4-7107-419d-bce1-5d1843c35cdb"
      },
      "source": [
        "## By age\n",
        "# Remove non-valid data\n",
        "dfplotPAGE = df[~df.P_AGE.isin(['UU','NN','XX'])]\n",
        "# Redefine data type\n",
        "dfplotPAGE = toNum(dfplotPAGE, \"P_AGE\")\n",
        "\n",
        "## Calculate proportion using groupby category\n",
        "## Each bar represents an age\n",
        "# tcPAGE = calTC(dfplotPAGE, \"P_AGE\")\n",
        "# fatalPAGE = calFatal(dfplotPAGE, \"P_AGE\") \n",
        "# propPAGE = fatalPAGE/tcPAGE\n",
        "# Plot the bar graph for fatality rate\n",
        "# plt.subplot(1, 2, 1)\n",
        "# propPAGE.plot.bar()\n",
        "# plt.xlabel('Person Age')\n",
        "# plt.ylabel('Fatality rate')\n",
        "# plt.subplot(1, 2, 2)\n",
        "# Plot bar graph for count of falities\n",
        "# fatalPAGE.plot.bar()\n",
        "# plt.xlabel('Person Age')\n",
        "# plt.ylabel('Fatality count')\n",
        "# plt.tight_layout()\n",
        "\n",
        "## Plot age histogram in grouped ages\n",
        "# Split data up in bins between 0 to 100, width of 10\n",
        "bin_range = np.arange(0,110,10)\n",
        "tcout, bins  = pd.cut(dfplotPAGE['P_AGE'], bins=bin_range, include_lowest=True, right=False, retbins=True)\n",
        "tcAGE = tcout.value_counts(sort = False)\n",
        "fatalout, bins  = pd.cut(dfplotPAGE[dfplotPAGE['P_ISEV'] == 1]['P_AGE'], bins=bin_range, include_lowest=True, right=False, retbins=True)\n",
        "fatalAGE = fatalout.value_counts(sort = False)\n",
        "propAGE = fatalAGE/tcAGE\n",
        "\n",
        "# Plot the two histograms\n",
        "plt.figure(figsize=(7,3))\n",
        "plt.subplot(1, 2, 2)\n",
        "fatalAGE.plot.bar()\n",
        "plt.xlabel('Person Age')\n",
        "plt.ylabel('Fatality count')\n",
        "\n",
        "plt.subplot(1, 2, 1)\n",
        "propAGE.plot.bar()\n",
        "plt.xlabel('Person Age')\n",
        "plt.ylabel('Fatality rate')\n",
        "plt.tight_layout()"
      ],
      "execution_count": 19,
      "outputs": [
        {
          "output_type": "stream",
          "text": [
            "/usr/local/lib/python3.7/dist-packages/pandas/core/indexing.py:1743: SettingWithCopyWarning: \n",
            "A value is trying to be set on a copy of a slice from a DataFrame.\n",
            "Try using .loc[row_indexer,col_indexer] = value instead\n",
            "\n",
            "See the caveats in the documentation: https://pandas.pydata.org/pandas-docs/stable/user_guide/indexing.html#returning-a-view-versus-a-copy\n",
            "  isetter(ilocs[0], value)\n"
          ],
          "name": "stderr"
        },
        {
          "output_type": "display_data",
          "data": {
            "image/png": "[encoded data removed]",
            "text/plain": [
              "<Figure size 504x216 with 2 Axes>"
            ]
          },
          "metadata": {
            "tags": [],
            "needs_background": "light"
          }
        }
      ]
    },
    {
      "cell_type": "markdown",
      "metadata": {
        "id": "YJdbV62JywZg"
      },
      "source": [
        "## Logistic Regression Model"
      ]
    },
    {
      "cell_type": "markdown",
      "metadata": {
        "id": "SK8_gyf6opOf"
      },
      "source": [
        "#### Generate dictionary for each category\n"
      ]
    },
    {
      "cell_type": "code",
      "metadata": {
        "id": "394wKatRos9k"
      },
      "source": [
        "# Create dictionaries for each category\n",
        "dictMNTH = {\n",
        "  1:'MNTH1',2:'MNTH2',3:'MNTH3',4:'MNTH4',5:'MNTH5',6:'MNTH6',7:'MNTH7',8:'MNTH8',9:'MNTH9',10:'MNTH10',11:'MNTH11',12:'MNTH12',\n",
        "}\n",
        "\n",
        "dictCONF = {\n",
        "  1: 'CONF1',2: 'CONF2',3: 'CONF3',4: 'CONF4',5: 'CONF5',6: 'CONF6',21: 'CONF21',22: 'CONF22',23: 'CONF23',24: 'CONF24',\n",
        "  25: 'CONF25',31: 'CONF31',32: 'CONF32',33: 'CONF33',34: 'CONF34',35: 'CONF35',36: 'CONF36',41: 'CONF41'\n",
        "}\n",
        "\n",
        "dictRCFG = {\n",
        "  1:'RCFG1', 2:'RCFG2', 3:'RCFG3', 4:'RCFG4', 5:'RCFG5',6:'RCFG6',7:'RCFG7',8:'RCFG8',9:'RCFG9',10:'RCFG10',11:'RCFG11',12:'RCFG12'\n",
        "}\n",
        "\n",
        "\n",
        "dictWTHR = {\n",
        "  1:'WTHR1', 2:'WTHR2', 3:'WTHR3', 4:'WTHR4', 5:'WTHR5',6:'WTHR6',7:'WTHR7'\n",
        "}\n",
        "\n",
        "dictRSUR = {\n",
        "  1:'RSUR1', 2:'RSUR2', 3:'RSUR3', 4:'RSUR4', 5:'RSUR5',6:'RSUR6',7:'RSUR7',8:'RSUR8',9:'RSUR9'\n",
        "}\n",
        "\n",
        "dictRALN = {\n",
        "  1:'RALN1', 2:'RALN2', 3:'RALN3', 4:'RALN4', 5:'RALN5',6:'RALN6'\n",
        "}\n",
        "\n",
        "dictVTYPE = {\n",
        "  0:'VTYPENN',1:'VTYPE1', 5:'VTYPE5',6:'VTYPE6',7:'VTYPE7',8:'VTYPE8',9:'VTYPE9',10:'VTYPE10',\n",
        "  11:'VTYPE11',14:'VTYPE14',16:'VTYPE16',17:'VTYPE17',18:'VTYPE18',19:'VTYPE19',\n",
        "  20:'VTYPE20',21:'VTYPE21',22:'VTYPE22',23:'VTYPE23'\n",
        "}\n",
        "\n",
        "dictPSEX = {\n",
        "    1:'SEXM', 2:'SEXF'\n",
        "}\n",
        "\n",
        "dictPUSER = {\n",
        "  1:'PUSER1', 2:'PUSER2', 3:'PUSER3', 4:'PUSER4', 5:'PUSER5'\n",
        "}"
      ],
      "execution_count": 20,
      "outputs": []
    },
    {
      "cell_type": "markdown",
      "metadata": {
        "id": "ReNmB7b4AA9-"
      },
      "source": [
        "#### Perform data cleaning and set-up for one-hot encoding"
      ]
    },
    {
      "cell_type": "code",
      "metadata": {
        "id": "hyFL0M16yviR"
      },
      "source": [
        "## Perform data cleaning\n",
        "dfLog = df.drop(columns=['C_YEAR','C_WDAY','C_HOUR','C_SEV','C_VEHS','C_TRAF','V_ID','V_YEAR','P_ID','P_PSN','P_SAFE','C_CASE'], axis=1)\n",
        "# Convert 'NN' code to 0, representing pedestrians\n",
        "indicies = dfLog[dfLog.V_TYPE.isin(['NN'])].index\n",
        "dfLog.V_TYPE[indicies] = 0\n",
        "# Convert sex into numeric codes where 1 = Male, 2 = Female\n",
        "indicies = dfLog[dfLog.P_SEX.isin(['M'])].index\n",
        "dfLog.P_SEX[indicies] = 1\n",
        "indicies = dfLog[dfLog.P_SEX.isin(['F'])].index\n",
        "dfLog.P_SEX[indicies] = 2\n",
        "# Remove all unknown/NaN data\n",
        "dfLog = dfLog[dfLog.isin(['U','N','X','Q','UU','NN','XX','QQ']).ne(True).all(axis=1)]\n",
        "# Convert to data tonumeric\n",
        "cols = dfLog.columns\n",
        "dfLog[cols] = dfLog[cols].apply(pd.to_numeric, errors='coerce')\n",
        "## Perform one-hot encoding for each categorical variable using dummy variables\n",
        "dumMNTH = pd.get_dummies(dfLog['C_MNTH'])\n",
        "dumCONF = pd.get_dummies(dfLog['C_CONF'])\n",
        "dumRCFG = pd.get_dummies(dfLog['C_RCFG'])\n",
        "dumWTHR = pd.get_dummies(dfLog['C_WTHR'])\n",
        "dumRSUR = pd.get_dummies(dfLog['C_RSUR'])\n",
        "dumRALN = pd.get_dummies(dfLog['C_RALN'])\n",
        "dumVTYPE = pd.get_dummies(dfLog['V_TYPE'])\n",
        "dumPSEX = pd.get_dummies(dfLog['P_SEX'])\n",
        "dumPUSER = pd.get_dummies(dfLog['P_USER'])\n",
        "\n",
        "# Create column names for the new DataFrames\n",
        "dumMNTH = dumMNTH.rename(columns = dictMNTH, inplace = False)\n",
        "dumCONF = dumCONF.rename(columns = dictCONF, inplace = False)\n",
        "dumRCFG =dumRCFG.rename(columns = dictRCFG, inplace = False)\n",
        "dumWTHR =dumWTHR.rename(columns = dictWTHR, inplace = False)\n",
        "dumRSUR =dumRSUR.rename(columns = dictRSUR, inplace = False)\n",
        "dumRALN =dumRALN.rename(columns = dictRALN, inplace = False)\n",
        "dumVTYPE =dumVTYPE.rename(columns = dictVTYPE, inplace = False)\n",
        "dumPSEX =dumPSEX.rename(columns = dictPSEX, inplace = False)\n",
        "dumPUSER =dumPUSER.rename(columns = dictPUSER, inplace = False)"
      ],
      "execution_count": 21,
      "outputs": []
    },
    {
      "cell_type": "code",
      "metadata": {
        "colab": {
          "base_uri": "https://localhost:8080/",
          "height": 256
        },
        "id": "Q6PQ1naojAqt",
        "outputId": "72d2b4d3-820f-47fe-80a3-6393b53822a0"
      },
      "source": [
        "# drop all categorical variables in original dataframe\n",
        "X = dfLog.drop(columns=['C_MNTH','C_CONF','C_RCFG','C_WTHR','C_RSUR','C_RALN','V_TYPE','P_SEX','P_USER'], axis=1)\n",
        "# Concat the dummy DataFrames Together\n",
        "dummies = pd.concat([dumMNTH,dumCONF,dumRCFG,dumWTHR,dumRSUR,dumRALN,dumVTYPE,dumPSEX,dumPUSER],axis=1)\n",
        "# Concat the X DataFrame with the dummy variables\n",
        "X = pd.concat([X,dummies],axis=1)\n",
        "# Preview of Result\n",
        "X.head()"
      ],
      "execution_count": 22,
      "outputs": [
        {
          "output_type": "execute_result",
          "data": {
            "text/html": [
              "<div>\n",
              "<style scoped>\n",
              "    .dataframe tbody tr th:only-of-type {\n",
              "        vertical-align: middle;\n",
              "    }\n",
              "\n",
              "    .dataframe tbody tr th {\n",
              "        vertical-align: top;\n",
              "    }\n",
              "\n",
              "    .dataframe thead th {\n",
              "        text-align: right;\n",
              "    }\n",
              "</style>\n",
              "<table border=\"1\" class=\"dataframe\">\n",
              "  <thead>\n",
              "    <tr style=\"text-align: right;\">\n",
              "      <th></th>\n",
              "      <th>P_AGE</th>\n",
              "      <th>P_ISEV</th>\n",
              "      <th>MNTH1</th>\n",
              "      <th>MNTH2</th>\n",
              "      <th>MNTH3</th>\n",
              "      <th>MNTH4</th>\n",
              "      <th>MNTH5</th>\n",
              "      <th>MNTH6</th>\n",
              "      <th>MNTH7</th>\n",
              "      <th>MNTH8</th>\n",
              "      <th>MNTH9</th>\n",
              "      <th>MNTH10</th>\n",
              "      <th>MNTH11</th>\n",
              "      <th>MNTH12</th>\n",
              "      <th>CONF1</th>\n",
              "      <th>CONF2</th>\n",
              "      <th>CONF3</th>\n",
              "      <th>CONF4</th>\n",
              "      <th>CONF5</th>\n",
              "      <th>CONF6</th>\n",
              "      <th>CONF21</th>\n",
              "      <th>CONF22</th>\n",
              "      <th>CONF23</th>\n",
              "      <th>CONF24</th>\n",
              "      <th>CONF25</th>\n",
              "      <th>CONF31</th>\n",
              "      <th>CONF32</th>\n",
              "      <th>CONF33</th>\n",
              "      <th>CONF34</th>\n",
              "      <th>CONF35</th>\n",
              "      <th>CONF36</th>\n",
              "      <th>CONF41</th>\n",
              "      <th>RCFG1</th>\n",
              "      <th>RCFG2</th>\n",
              "      <th>RCFG3</th>\n",
              "      <th>RCFG4</th>\n",
              "      <th>RCFG5</th>\n",
              "      <th>RCFG6</th>\n",
              "      <th>RCFG7</th>\n",
              "      <th>RCFG8</th>\n",
              "      <th>...</th>\n",
              "      <th>WTHR4</th>\n",
              "      <th>WTHR5</th>\n",
              "      <th>WTHR6</th>\n",
              "      <th>WTHR7</th>\n",
              "      <th>RSUR1</th>\n",
              "      <th>RSUR2</th>\n",
              "      <th>RSUR3</th>\n",
              "      <th>RSUR4</th>\n",
              "      <th>RSUR5</th>\n",
              "      <th>RSUR6</th>\n",
              "      <th>RSUR7</th>\n",
              "      <th>RSUR8</th>\n",
              "      <th>RSUR9</th>\n",
              "      <th>RALN1</th>\n",
              "      <th>RALN2</th>\n",
              "      <th>RALN3</th>\n",
              "      <th>RALN4</th>\n",
              "      <th>RALN5</th>\n",
              "      <th>RALN6</th>\n",
              "      <th>VTYPENN</th>\n",
              "      <th>VTYPE1</th>\n",
              "      <th>VTYPE5</th>\n",
              "      <th>VTYPE6</th>\n",
              "      <th>VTYPE7</th>\n",
              "      <th>VTYPE8</th>\n",
              "      <th>VTYPE9</th>\n",
              "      <th>VTYPE10</th>\n",
              "      <th>VTYPE11</th>\n",
              "      <th>VTYPE14</th>\n",
              "      <th>VTYPE17</th>\n",
              "      <th>VTYPE18</th>\n",
              "      <th>VTYPE21</th>\n",
              "      <th>VTYPE23</th>\n",
              "      <th>SEXM</th>\n",
              "      <th>SEXF</th>\n",
              "      <th>PUSER1</th>\n",
              "      <th>PUSER2</th>\n",
              "      <th>PUSER3</th>\n",
              "      <th>PUSER4</th>\n",
              "      <th>PUSER5</th>\n",
              "    </tr>\n",
              "  </thead>\n",
              "  <tbody>\n",
              "    <tr>\n",
              "      <th>0</th>\n",
              "      <td>75</td>\n",
              "      <td>0</td>\n",
              "      <td>1</td>\n",
              "      <td>0</td>\n",
              "      <td>0</td>\n",
              "      <td>0</td>\n",
              "      <td>0</td>\n",
              "      <td>0</td>\n",
              "      <td>0</td>\n",
              "      <td>0</td>\n",
              "      <td>0</td>\n",
              "      <td>0</td>\n",
              "      <td>0</td>\n",
              "      <td>0</td>\n",
              "      <td>0</td>\n",
              "      <td>1</td>\n",
              "      <td>0</td>\n",
              "      <td>0</td>\n",
              "      <td>0</td>\n",
              "      <td>0</td>\n",
              "      <td>0</td>\n",
              "      <td>0</td>\n",
              "      <td>0</td>\n",
              "      <td>0</td>\n",
              "      <td>0</td>\n",
              "      <td>0</td>\n",
              "      <td>0</td>\n",
              "      <td>0</td>\n",
              "      <td>0</td>\n",
              "      <td>0</td>\n",
              "      <td>0</td>\n",
              "      <td>0</td>\n",
              "      <td>0</td>\n",
              "      <td>0</td>\n",
              "      <td>1</td>\n",
              "      <td>0</td>\n",
              "      <td>0</td>\n",
              "      <td>0</td>\n",
              "      <td>0</td>\n",
              "      <td>0</td>\n",
              "      <td>...</td>\n",
              "      <td>0</td>\n",
              "      <td>0</td>\n",
              "      <td>0</td>\n",
              "      <td>0</td>\n",
              "      <td>0</td>\n",
              "      <td>0</td>\n",
              "      <td>1</td>\n",
              "      <td>0</td>\n",
              "      <td>0</td>\n",
              "      <td>0</td>\n",
              "      <td>0</td>\n",
              "      <td>0</td>\n",
              "      <td>0</td>\n",
              "      <td>0</td>\n",
              "      <td>1</td>\n",
              "      <td>0</td>\n",
              "      <td>0</td>\n",
              "      <td>0</td>\n",
              "      <td>0</td>\n",
              "      <td>0</td>\n",
              "      <td>1</td>\n",
              "      <td>0</td>\n",
              "      <td>0</td>\n",
              "      <td>0</td>\n",
              "      <td>0</td>\n",
              "      <td>0</td>\n",
              "      <td>0</td>\n",
              "      <td>0</td>\n",
              "      <td>0</td>\n",
              "      <td>0</td>\n",
              "      <td>0</td>\n",
              "      <td>0</td>\n",
              "      <td>0</td>\n",
              "      <td>1</td>\n",
              "      <td>0</td>\n",
              "      <td>1</td>\n",
              "      <td>0</td>\n",
              "      <td>0</td>\n",
              "      <td>0</td>\n",
              "      <td>0</td>\n",
              "    </tr>\n",
              "    <tr>\n",
              "      <th>5</th>\n",
              "      <td>26</td>\n",
              "      <td>0</td>\n",
              "      <td>1</td>\n",
              "      <td>0</td>\n",
              "      <td>0</td>\n",
              "      <td>0</td>\n",
              "      <td>0</td>\n",
              "      <td>0</td>\n",
              "      <td>0</td>\n",
              "      <td>0</td>\n",
              "      <td>0</td>\n",
              "      <td>0</td>\n",
              "      <td>0</td>\n",
              "      <td>0</td>\n",
              "      <td>0</td>\n",
              "      <td>0</td>\n",
              "      <td>0</td>\n",
              "      <td>1</td>\n",
              "      <td>0</td>\n",
              "      <td>0</td>\n",
              "      <td>0</td>\n",
              "      <td>0</td>\n",
              "      <td>0</td>\n",
              "      <td>0</td>\n",
              "      <td>0</td>\n",
              "      <td>0</td>\n",
              "      <td>0</td>\n",
              "      <td>0</td>\n",
              "      <td>0</td>\n",
              "      <td>0</td>\n",
              "      <td>0</td>\n",
              "      <td>0</td>\n",
              "      <td>0</td>\n",
              "      <td>0</td>\n",
              "      <td>0</td>\n",
              "      <td>0</td>\n",
              "      <td>1</td>\n",
              "      <td>0</td>\n",
              "      <td>0</td>\n",
              "      <td>0</td>\n",
              "      <td>...</td>\n",
              "      <td>0</td>\n",
              "      <td>0</td>\n",
              "      <td>0</td>\n",
              "      <td>0</td>\n",
              "      <td>0</td>\n",
              "      <td>0</td>\n",
              "      <td>1</td>\n",
              "      <td>0</td>\n",
              "      <td>0</td>\n",
              "      <td>0</td>\n",
              "      <td>0</td>\n",
              "      <td>0</td>\n",
              "      <td>0</td>\n",
              "      <td>1</td>\n",
              "      <td>0</td>\n",
              "      <td>0</td>\n",
              "      <td>0</td>\n",
              "      <td>0</td>\n",
              "      <td>0</td>\n",
              "      <td>0</td>\n",
              "      <td>1</td>\n",
              "      <td>0</td>\n",
              "      <td>0</td>\n",
              "      <td>0</td>\n",
              "      <td>0</td>\n",
              "      <td>0</td>\n",
              "      <td>0</td>\n",
              "      <td>0</td>\n",
              "      <td>0</td>\n",
              "      <td>0</td>\n",
              "      <td>0</td>\n",
              "      <td>0</td>\n",
              "      <td>0</td>\n",
              "      <td>0</td>\n",
              "      <td>1</td>\n",
              "      <td>1</td>\n",
              "      <td>0</td>\n",
              "      <td>0</td>\n",
              "      <td>0</td>\n",
              "      <td>0</td>\n",
              "    </tr>\n",
              "    <tr>\n",
              "      <th>6</th>\n",
              "      <td>34</td>\n",
              "      <td>0</td>\n",
              "      <td>1</td>\n",
              "      <td>0</td>\n",
              "      <td>0</td>\n",
              "      <td>0</td>\n",
              "      <td>0</td>\n",
              "      <td>0</td>\n",
              "      <td>0</td>\n",
              "      <td>0</td>\n",
              "      <td>0</td>\n",
              "      <td>0</td>\n",
              "      <td>0</td>\n",
              "      <td>0</td>\n",
              "      <td>0</td>\n",
              "      <td>0</td>\n",
              "      <td>0</td>\n",
              "      <td>0</td>\n",
              "      <td>0</td>\n",
              "      <td>0</td>\n",
              "      <td>0</td>\n",
              "      <td>0</td>\n",
              "      <td>0</td>\n",
              "      <td>0</td>\n",
              "      <td>0</td>\n",
              "      <td>0</td>\n",
              "      <td>0</td>\n",
              "      <td>0</td>\n",
              "      <td>0</td>\n",
              "      <td>1</td>\n",
              "      <td>0</td>\n",
              "      <td>0</td>\n",
              "      <td>0</td>\n",
              "      <td>1</td>\n",
              "      <td>0</td>\n",
              "      <td>0</td>\n",
              "      <td>0</td>\n",
              "      <td>0</td>\n",
              "      <td>0</td>\n",
              "      <td>0</td>\n",
              "      <td>...</td>\n",
              "      <td>1</td>\n",
              "      <td>0</td>\n",
              "      <td>0</td>\n",
              "      <td>0</td>\n",
              "      <td>0</td>\n",
              "      <td>0</td>\n",
              "      <td>1</td>\n",
              "      <td>0</td>\n",
              "      <td>0</td>\n",
              "      <td>0</td>\n",
              "      <td>0</td>\n",
              "      <td>0</td>\n",
              "      <td>0</td>\n",
              "      <td>0</td>\n",
              "      <td>0</td>\n",
              "      <td>0</td>\n",
              "      <td>1</td>\n",
              "      <td>0</td>\n",
              "      <td>0</td>\n",
              "      <td>0</td>\n",
              "      <td>1</td>\n",
              "      <td>0</td>\n",
              "      <td>0</td>\n",
              "      <td>0</td>\n",
              "      <td>0</td>\n",
              "      <td>0</td>\n",
              "      <td>0</td>\n",
              "      <td>0</td>\n",
              "      <td>0</td>\n",
              "      <td>0</td>\n",
              "      <td>0</td>\n",
              "      <td>0</td>\n",
              "      <td>0</td>\n",
              "      <td>1</td>\n",
              "      <td>0</td>\n",
              "      <td>1</td>\n",
              "      <td>0</td>\n",
              "      <td>0</td>\n",
              "      <td>0</td>\n",
              "      <td>0</td>\n",
              "    </tr>\n",
              "    <tr>\n",
              "      <th>7</th>\n",
              "      <td>20</td>\n",
              "      <td>0</td>\n",
              "      <td>1</td>\n",
              "      <td>0</td>\n",
              "      <td>0</td>\n",
              "      <td>0</td>\n",
              "      <td>0</td>\n",
              "      <td>0</td>\n",
              "      <td>0</td>\n",
              "      <td>0</td>\n",
              "      <td>0</td>\n",
              "      <td>0</td>\n",
              "      <td>0</td>\n",
              "      <td>0</td>\n",
              "      <td>0</td>\n",
              "      <td>0</td>\n",
              "      <td>0</td>\n",
              "      <td>0</td>\n",
              "      <td>0</td>\n",
              "      <td>0</td>\n",
              "      <td>0</td>\n",
              "      <td>0</td>\n",
              "      <td>0</td>\n",
              "      <td>0</td>\n",
              "      <td>0</td>\n",
              "      <td>0</td>\n",
              "      <td>0</td>\n",
              "      <td>0</td>\n",
              "      <td>0</td>\n",
              "      <td>1</td>\n",
              "      <td>0</td>\n",
              "      <td>0</td>\n",
              "      <td>0</td>\n",
              "      <td>1</td>\n",
              "      <td>0</td>\n",
              "      <td>0</td>\n",
              "      <td>0</td>\n",
              "      <td>0</td>\n",
              "      <td>0</td>\n",
              "      <td>0</td>\n",
              "      <td>...</td>\n",
              "      <td>1</td>\n",
              "      <td>0</td>\n",
              "      <td>0</td>\n",
              "      <td>0</td>\n",
              "      <td>0</td>\n",
              "      <td>0</td>\n",
              "      <td>1</td>\n",
              "      <td>0</td>\n",
              "      <td>0</td>\n",
              "      <td>0</td>\n",
              "      <td>0</td>\n",
              "      <td>0</td>\n",
              "      <td>0</td>\n",
              "      <td>0</td>\n",
              "      <td>0</td>\n",
              "      <td>0</td>\n",
              "      <td>1</td>\n",
              "      <td>0</td>\n",
              "      <td>0</td>\n",
              "      <td>0</td>\n",
              "      <td>1</td>\n",
              "      <td>0</td>\n",
              "      <td>0</td>\n",
              "      <td>0</td>\n",
              "      <td>0</td>\n",
              "      <td>0</td>\n",
              "      <td>0</td>\n",
              "      <td>0</td>\n",
              "      <td>0</td>\n",
              "      <td>0</td>\n",
              "      <td>0</td>\n",
              "      <td>0</td>\n",
              "      <td>0</td>\n",
              "      <td>0</td>\n",
              "      <td>1</td>\n",
              "      <td>1</td>\n",
              "      <td>0</td>\n",
              "      <td>0</td>\n",
              "      <td>0</td>\n",
              "      <td>0</td>\n",
              "    </tr>\n",
              "    <tr>\n",
              "      <th>8</th>\n",
              "      <td>80</td>\n",
              "      <td>0</td>\n",
              "      <td>1</td>\n",
              "      <td>0</td>\n",
              "      <td>0</td>\n",
              "      <td>0</td>\n",
              "      <td>0</td>\n",
              "      <td>0</td>\n",
              "      <td>0</td>\n",
              "      <td>0</td>\n",
              "      <td>0</td>\n",
              "      <td>0</td>\n",
              "      <td>0</td>\n",
              "      <td>0</td>\n",
              "      <td>0</td>\n",
              "      <td>0</td>\n",
              "      <td>0</td>\n",
              "      <td>0</td>\n",
              "      <td>0</td>\n",
              "      <td>0</td>\n",
              "      <td>0</td>\n",
              "      <td>0</td>\n",
              "      <td>0</td>\n",
              "      <td>0</td>\n",
              "      <td>0</td>\n",
              "      <td>0</td>\n",
              "      <td>0</td>\n",
              "      <td>0</td>\n",
              "      <td>0</td>\n",
              "      <td>1</td>\n",
              "      <td>0</td>\n",
              "      <td>0</td>\n",
              "      <td>0</td>\n",
              "      <td>1</td>\n",
              "      <td>0</td>\n",
              "      <td>0</td>\n",
              "      <td>0</td>\n",
              "      <td>0</td>\n",
              "      <td>0</td>\n",
              "      <td>0</td>\n",
              "      <td>...</td>\n",
              "      <td>0</td>\n",
              "      <td>0</td>\n",
              "      <td>0</td>\n",
              "      <td>0</td>\n",
              "      <td>1</td>\n",
              "      <td>0</td>\n",
              "      <td>0</td>\n",
              "      <td>0</td>\n",
              "      <td>0</td>\n",
              "      <td>0</td>\n",
              "      <td>0</td>\n",
              "      <td>0</td>\n",
              "      <td>0</td>\n",
              "      <td>1</td>\n",
              "      <td>0</td>\n",
              "      <td>0</td>\n",
              "      <td>0</td>\n",
              "      <td>0</td>\n",
              "      <td>0</td>\n",
              "      <td>0</td>\n",
              "      <td>1</td>\n",
              "      <td>0</td>\n",
              "      <td>0</td>\n",
              "      <td>0</td>\n",
              "      <td>0</td>\n",
              "      <td>0</td>\n",
              "      <td>0</td>\n",
              "      <td>0</td>\n",
              "      <td>0</td>\n",
              "      <td>0</td>\n",
              "      <td>0</td>\n",
              "      <td>0</td>\n",
              "      <td>0</td>\n",
              "      <td>0</td>\n",
              "      <td>1</td>\n",
              "      <td>1</td>\n",
              "      <td>0</td>\n",
              "      <td>0</td>\n",
              "      <td>0</td>\n",
              "      <td>0</td>\n",
              "    </tr>\n",
              "  </tbody>\n",
              "</table>\n",
              "<p>5 rows × 85 columns</p>\n",
              "</div>"
            ],
            "text/plain": [
              "   P_AGE  P_ISEV  MNTH1  MNTH2  MNTH3  ...  PUSER1  PUSER2  PUSER3  PUSER4  PUSER5\n",
              "0     75       0      1      0      0  ...       1       0       0       0       0\n",
              "5     26       0      1      0      0  ...       1       0       0       0       0\n",
              "6     34       0      1      0      0  ...       1       0       0       0       0\n",
              "7     20       0      1      0      0  ...       1       0       0       0       0\n",
              "8     80       0      1      0      0  ...       1       0       0       0       0\n",
              "\n",
              "[5 rows x 85 columns]"
            ]
          },
          "metadata": {
            "tags": []
          },
          "execution_count": 22
        }
      ]
    },
    {
      "cell_type": "code",
      "metadata": {
        "colab": {
          "base_uri": "https://localhost:8080/"
        },
        "id": "Oz3vbizFwjtI",
        "outputId": "f0a01aac-1833-4570-ad9f-dd15b61598fc"
      },
      "source": [
        "# Set Y as Target class, Had Affair\n",
        "Y = dfLog.P_ISEV\n",
        "\n",
        "# Preview\n",
        "Y"
      ],
      "execution_count": 23,
      "outputs": [
        {
          "output_type": "execute_result",
          "data": {
            "text/plain": [
              "0         0\n",
              "5         0\n",
              "6         0\n",
              "7         0\n",
              "8         0\n",
              "         ..\n",
              "289806    0\n",
              "289807    0\n",
              "289811    0\n",
              "289812    0\n",
              "289818    0\n",
              "Name: P_ISEV, Length: 209421, dtype: int64"
            ]
          },
          "metadata": {
            "tags": []
          },
          "execution_count": 23
        }
      ]
    },
    {
      "cell_type": "code",
      "metadata": {
        "colab": {
          "base_uri": "https://localhost:8080/",
          "height": 226
        },
        "id": "Ud-HLnqmwsdc",
        "outputId": "38ca1165-1c66-4d97-bf18-16b95374c13c"
      },
      "source": [
        "# Dropping one column of each dummy variable set to avoid multicollinearity\n",
        "X = X.drop('MNTH1',axis=1)\n",
        "X = X.drop('CONF1',axis=1)\n",
        "X = X.drop('RCFG1',axis=1)\n",
        "X = X.drop('WTHR1',axis=1)\n",
        "X = X.drop('RSUR1',axis=1)\n",
        "X = X.drop('RALN1',axis=1)\n",
        "X = X.drop('VTYPENN',axis=1)\n",
        "X = X.drop('SEXM',axis=1)\n",
        "X = X.drop('PUSER1',axis=1)\n",
        "\n",
        "# Drop affairs column so Y target makes sense\n",
        "X = X.drop(['P_ISEV'],axis=1)\n",
        "\n",
        "# Preview\n",
        "X.head()"
      ],
      "execution_count": 24,
      "outputs": [
        {
          "output_type": "execute_result",
          "data": {
            "text/html": [
              "<div>\n",
              "<style scoped>\n",
              "    .dataframe tbody tr th:only-of-type {\n",
              "        vertical-align: middle;\n",
              "    }\n",
              "\n",
              "    .dataframe tbody tr th {\n",
              "        vertical-align: top;\n",
              "    }\n",
              "\n",
              "    .dataframe thead th {\n",
              "        text-align: right;\n",
              "    }\n",
              "</style>\n",
              "<table border=\"1\" class=\"dataframe\">\n",
              "  <thead>\n",
              "    <tr style=\"text-align: right;\">\n",
              "      <th></th>\n",
              "      <th>P_AGE</th>\n",
              "      <th>MNTH2</th>\n",
              "      <th>MNTH3</th>\n",
              "      <th>MNTH4</th>\n",
              "      <th>MNTH5</th>\n",
              "      <th>MNTH6</th>\n",
              "      <th>MNTH7</th>\n",
              "      <th>MNTH8</th>\n",
              "      <th>MNTH9</th>\n",
              "      <th>MNTH10</th>\n",
              "      <th>MNTH11</th>\n",
              "      <th>MNTH12</th>\n",
              "      <th>CONF2</th>\n",
              "      <th>CONF3</th>\n",
              "      <th>CONF4</th>\n",
              "      <th>CONF5</th>\n",
              "      <th>CONF6</th>\n",
              "      <th>CONF21</th>\n",
              "      <th>CONF22</th>\n",
              "      <th>CONF23</th>\n",
              "      <th>CONF24</th>\n",
              "      <th>CONF25</th>\n",
              "      <th>CONF31</th>\n",
              "      <th>CONF32</th>\n",
              "      <th>CONF33</th>\n",
              "      <th>CONF34</th>\n",
              "      <th>CONF35</th>\n",
              "      <th>CONF36</th>\n",
              "      <th>CONF41</th>\n",
              "      <th>RCFG2</th>\n",
              "      <th>RCFG3</th>\n",
              "      <th>RCFG4</th>\n",
              "      <th>RCFG5</th>\n",
              "      <th>RCFG6</th>\n",
              "      <th>RCFG7</th>\n",
              "      <th>RCFG8</th>\n",
              "      <th>RCFG9</th>\n",
              "      <th>RCFG10</th>\n",
              "      <th>WTHR2</th>\n",
              "      <th>WTHR3</th>\n",
              "      <th>WTHR4</th>\n",
              "      <th>WTHR5</th>\n",
              "      <th>WTHR6</th>\n",
              "      <th>WTHR7</th>\n",
              "      <th>RSUR2</th>\n",
              "      <th>RSUR3</th>\n",
              "      <th>RSUR4</th>\n",
              "      <th>RSUR5</th>\n",
              "      <th>RSUR6</th>\n",
              "      <th>RSUR7</th>\n",
              "      <th>RSUR8</th>\n",
              "      <th>RSUR9</th>\n",
              "      <th>RALN2</th>\n",
              "      <th>RALN3</th>\n",
              "      <th>RALN4</th>\n",
              "      <th>RALN5</th>\n",
              "      <th>RALN6</th>\n",
              "      <th>VTYPE1</th>\n",
              "      <th>VTYPE5</th>\n",
              "      <th>VTYPE6</th>\n",
              "      <th>VTYPE7</th>\n",
              "      <th>VTYPE8</th>\n",
              "      <th>VTYPE9</th>\n",
              "      <th>VTYPE10</th>\n",
              "      <th>VTYPE11</th>\n",
              "      <th>VTYPE14</th>\n",
              "      <th>VTYPE17</th>\n",
              "      <th>VTYPE18</th>\n",
              "      <th>VTYPE21</th>\n",
              "      <th>VTYPE23</th>\n",
              "      <th>SEXF</th>\n",
              "      <th>PUSER2</th>\n",
              "      <th>PUSER3</th>\n",
              "      <th>PUSER4</th>\n",
              "      <th>PUSER5</th>\n",
              "    </tr>\n",
              "  </thead>\n",
              "  <tbody>\n",
              "    <tr>\n",
              "      <th>0</th>\n",
              "      <td>75</td>\n",
              "      <td>0</td>\n",
              "      <td>0</td>\n",
              "      <td>0</td>\n",
              "      <td>0</td>\n",
              "      <td>0</td>\n",
              "      <td>0</td>\n",
              "      <td>0</td>\n",
              "      <td>0</td>\n",
              "      <td>0</td>\n",
              "      <td>0</td>\n",
              "      <td>0</td>\n",
              "      <td>1</td>\n",
              "      <td>0</td>\n",
              "      <td>0</td>\n",
              "      <td>0</td>\n",
              "      <td>0</td>\n",
              "      <td>0</td>\n",
              "      <td>0</td>\n",
              "      <td>0</td>\n",
              "      <td>0</td>\n",
              "      <td>0</td>\n",
              "      <td>0</td>\n",
              "      <td>0</td>\n",
              "      <td>0</td>\n",
              "      <td>0</td>\n",
              "      <td>0</td>\n",
              "      <td>0</td>\n",
              "      <td>0</td>\n",
              "      <td>0</td>\n",
              "      <td>1</td>\n",
              "      <td>0</td>\n",
              "      <td>0</td>\n",
              "      <td>0</td>\n",
              "      <td>0</td>\n",
              "      <td>0</td>\n",
              "      <td>0</td>\n",
              "      <td>0</td>\n",
              "      <td>0</td>\n",
              "      <td>0</td>\n",
              "      <td>0</td>\n",
              "      <td>0</td>\n",
              "      <td>0</td>\n",
              "      <td>0</td>\n",
              "      <td>0</td>\n",
              "      <td>1</td>\n",
              "      <td>0</td>\n",
              "      <td>0</td>\n",
              "      <td>0</td>\n",
              "      <td>0</td>\n",
              "      <td>0</td>\n",
              "      <td>0</td>\n",
              "      <td>1</td>\n",
              "      <td>0</td>\n",
              "      <td>0</td>\n",
              "      <td>0</td>\n",
              "      <td>0</td>\n",
              "      <td>1</td>\n",
              "      <td>0</td>\n",
              "      <td>0</td>\n",
              "      <td>0</td>\n",
              "      <td>0</td>\n",
              "      <td>0</td>\n",
              "      <td>0</td>\n",
              "      <td>0</td>\n",
              "      <td>0</td>\n",
              "      <td>0</td>\n",
              "      <td>0</td>\n",
              "      <td>0</td>\n",
              "      <td>0</td>\n",
              "      <td>0</td>\n",
              "      <td>0</td>\n",
              "      <td>0</td>\n",
              "      <td>0</td>\n",
              "      <td>0</td>\n",
              "    </tr>\n",
              "    <tr>\n",
              "      <th>5</th>\n",
              "      <td>26</td>\n",
              "      <td>0</td>\n",
              "      <td>0</td>\n",
              "      <td>0</td>\n",
              "      <td>0</td>\n",
              "      <td>0</td>\n",
              "      <td>0</td>\n",
              "      <td>0</td>\n",
              "      <td>0</td>\n",
              "      <td>0</td>\n",
              "      <td>0</td>\n",
              "      <td>0</td>\n",
              "      <td>0</td>\n",
              "      <td>0</td>\n",
              "      <td>1</td>\n",
              "      <td>0</td>\n",
              "      <td>0</td>\n",
              "      <td>0</td>\n",
              "      <td>0</td>\n",
              "      <td>0</td>\n",
              "      <td>0</td>\n",
              "      <td>0</td>\n",
              "      <td>0</td>\n",
              "      <td>0</td>\n",
              "      <td>0</td>\n",
              "      <td>0</td>\n",
              "      <td>0</td>\n",
              "      <td>0</td>\n",
              "      <td>0</td>\n",
              "      <td>0</td>\n",
              "      <td>0</td>\n",
              "      <td>0</td>\n",
              "      <td>1</td>\n",
              "      <td>0</td>\n",
              "      <td>0</td>\n",
              "      <td>0</td>\n",
              "      <td>0</td>\n",
              "      <td>0</td>\n",
              "      <td>0</td>\n",
              "      <td>0</td>\n",
              "      <td>0</td>\n",
              "      <td>0</td>\n",
              "      <td>0</td>\n",
              "      <td>0</td>\n",
              "      <td>0</td>\n",
              "      <td>1</td>\n",
              "      <td>0</td>\n",
              "      <td>0</td>\n",
              "      <td>0</td>\n",
              "      <td>0</td>\n",
              "      <td>0</td>\n",
              "      <td>0</td>\n",
              "      <td>0</td>\n",
              "      <td>0</td>\n",
              "      <td>0</td>\n",
              "      <td>0</td>\n",
              "      <td>0</td>\n",
              "      <td>1</td>\n",
              "      <td>0</td>\n",
              "      <td>0</td>\n",
              "      <td>0</td>\n",
              "      <td>0</td>\n",
              "      <td>0</td>\n",
              "      <td>0</td>\n",
              "      <td>0</td>\n",
              "      <td>0</td>\n",
              "      <td>0</td>\n",
              "      <td>0</td>\n",
              "      <td>0</td>\n",
              "      <td>0</td>\n",
              "      <td>1</td>\n",
              "      <td>0</td>\n",
              "      <td>0</td>\n",
              "      <td>0</td>\n",
              "      <td>0</td>\n",
              "    </tr>\n",
              "    <tr>\n",
              "      <th>6</th>\n",
              "      <td>34</td>\n",
              "      <td>0</td>\n",
              "      <td>0</td>\n",
              "      <td>0</td>\n",
              "      <td>0</td>\n",
              "      <td>0</td>\n",
              "      <td>0</td>\n",
              "      <td>0</td>\n",
              "      <td>0</td>\n",
              "      <td>0</td>\n",
              "      <td>0</td>\n",
              "      <td>0</td>\n",
              "      <td>0</td>\n",
              "      <td>0</td>\n",
              "      <td>0</td>\n",
              "      <td>0</td>\n",
              "      <td>0</td>\n",
              "      <td>0</td>\n",
              "      <td>0</td>\n",
              "      <td>0</td>\n",
              "      <td>0</td>\n",
              "      <td>0</td>\n",
              "      <td>0</td>\n",
              "      <td>0</td>\n",
              "      <td>0</td>\n",
              "      <td>0</td>\n",
              "      <td>1</td>\n",
              "      <td>0</td>\n",
              "      <td>0</td>\n",
              "      <td>1</td>\n",
              "      <td>0</td>\n",
              "      <td>0</td>\n",
              "      <td>0</td>\n",
              "      <td>0</td>\n",
              "      <td>0</td>\n",
              "      <td>0</td>\n",
              "      <td>0</td>\n",
              "      <td>0</td>\n",
              "      <td>0</td>\n",
              "      <td>0</td>\n",
              "      <td>1</td>\n",
              "      <td>0</td>\n",
              "      <td>0</td>\n",
              "      <td>0</td>\n",
              "      <td>0</td>\n",
              "      <td>1</td>\n",
              "      <td>0</td>\n",
              "      <td>0</td>\n",
              "      <td>0</td>\n",
              "      <td>0</td>\n",
              "      <td>0</td>\n",
              "      <td>0</td>\n",
              "      <td>0</td>\n",
              "      <td>0</td>\n",
              "      <td>1</td>\n",
              "      <td>0</td>\n",
              "      <td>0</td>\n",
              "      <td>1</td>\n",
              "      <td>0</td>\n",
              "      <td>0</td>\n",
              "      <td>0</td>\n",
              "      <td>0</td>\n",
              "      <td>0</td>\n",
              "      <td>0</td>\n",
              "      <td>0</td>\n",
              "      <td>0</td>\n",
              "      <td>0</td>\n",
              "      <td>0</td>\n",
              "      <td>0</td>\n",
              "      <td>0</td>\n",
              "      <td>0</td>\n",
              "      <td>0</td>\n",
              "      <td>0</td>\n",
              "      <td>0</td>\n",
              "      <td>0</td>\n",
              "    </tr>\n",
              "    <tr>\n",
              "      <th>7</th>\n",
              "      <td>20</td>\n",
              "      <td>0</td>\n",
              "      <td>0</td>\n",
              "      <td>0</td>\n",
              "      <td>0</td>\n",
              "      <td>0</td>\n",
              "      <td>0</td>\n",
              "      <td>0</td>\n",
              "      <td>0</td>\n",
              "      <td>0</td>\n",
              "      <td>0</td>\n",
              "      <td>0</td>\n",
              "      <td>0</td>\n",
              "      <td>0</td>\n",
              "      <td>0</td>\n",
              "      <td>0</td>\n",
              "      <td>0</td>\n",
              "      <td>0</td>\n",
              "      <td>0</td>\n",
              "      <td>0</td>\n",
              "      <td>0</td>\n",
              "      <td>0</td>\n",
              "      <td>0</td>\n",
              "      <td>0</td>\n",
              "      <td>0</td>\n",
              "      <td>0</td>\n",
              "      <td>1</td>\n",
              "      <td>0</td>\n",
              "      <td>0</td>\n",
              "      <td>1</td>\n",
              "      <td>0</td>\n",
              "      <td>0</td>\n",
              "      <td>0</td>\n",
              "      <td>0</td>\n",
              "      <td>0</td>\n",
              "      <td>0</td>\n",
              "      <td>0</td>\n",
              "      <td>0</td>\n",
              "      <td>0</td>\n",
              "      <td>0</td>\n",
              "      <td>1</td>\n",
              "      <td>0</td>\n",
              "      <td>0</td>\n",
              "      <td>0</td>\n",
              "      <td>0</td>\n",
              "      <td>1</td>\n",
              "      <td>0</td>\n",
              "      <td>0</td>\n",
              "      <td>0</td>\n",
              "      <td>0</td>\n",
              "      <td>0</td>\n",
              "      <td>0</td>\n",
              "      <td>0</td>\n",
              "      <td>0</td>\n",
              "      <td>1</td>\n",
              "      <td>0</td>\n",
              "      <td>0</td>\n",
              "      <td>1</td>\n",
              "      <td>0</td>\n",
              "      <td>0</td>\n",
              "      <td>0</td>\n",
              "      <td>0</td>\n",
              "      <td>0</td>\n",
              "      <td>0</td>\n",
              "      <td>0</td>\n",
              "      <td>0</td>\n",
              "      <td>0</td>\n",
              "      <td>0</td>\n",
              "      <td>0</td>\n",
              "      <td>0</td>\n",
              "      <td>1</td>\n",
              "      <td>0</td>\n",
              "      <td>0</td>\n",
              "      <td>0</td>\n",
              "      <td>0</td>\n",
              "    </tr>\n",
              "    <tr>\n",
              "      <th>8</th>\n",
              "      <td>80</td>\n",
              "      <td>0</td>\n",
              "      <td>0</td>\n",
              "      <td>0</td>\n",
              "      <td>0</td>\n",
              "      <td>0</td>\n",
              "      <td>0</td>\n",
              "      <td>0</td>\n",
              "      <td>0</td>\n",
              "      <td>0</td>\n",
              "      <td>0</td>\n",
              "      <td>0</td>\n",
              "      <td>0</td>\n",
              "      <td>0</td>\n",
              "      <td>0</td>\n",
              "      <td>0</td>\n",
              "      <td>0</td>\n",
              "      <td>0</td>\n",
              "      <td>0</td>\n",
              "      <td>0</td>\n",
              "      <td>0</td>\n",
              "      <td>0</td>\n",
              "      <td>0</td>\n",
              "      <td>0</td>\n",
              "      <td>0</td>\n",
              "      <td>0</td>\n",
              "      <td>1</td>\n",
              "      <td>0</td>\n",
              "      <td>0</td>\n",
              "      <td>1</td>\n",
              "      <td>0</td>\n",
              "      <td>0</td>\n",
              "      <td>0</td>\n",
              "      <td>0</td>\n",
              "      <td>0</td>\n",
              "      <td>0</td>\n",
              "      <td>0</td>\n",
              "      <td>0</td>\n",
              "      <td>0</td>\n",
              "      <td>0</td>\n",
              "      <td>0</td>\n",
              "      <td>0</td>\n",
              "      <td>0</td>\n",
              "      <td>0</td>\n",
              "      <td>0</td>\n",
              "      <td>0</td>\n",
              "      <td>0</td>\n",
              "      <td>0</td>\n",
              "      <td>0</td>\n",
              "      <td>0</td>\n",
              "      <td>0</td>\n",
              "      <td>0</td>\n",
              "      <td>0</td>\n",
              "      <td>0</td>\n",
              "      <td>0</td>\n",
              "      <td>0</td>\n",
              "      <td>0</td>\n",
              "      <td>1</td>\n",
              "      <td>0</td>\n",
              "      <td>0</td>\n",
              "      <td>0</td>\n",
              "      <td>0</td>\n",
              "      <td>0</td>\n",
              "      <td>0</td>\n",
              "      <td>0</td>\n",
              "      <td>0</td>\n",
              "      <td>0</td>\n",
              "      <td>0</td>\n",
              "      <td>0</td>\n",
              "      <td>0</td>\n",
              "      <td>1</td>\n",
              "      <td>0</td>\n",
              "      <td>0</td>\n",
              "      <td>0</td>\n",
              "      <td>0</td>\n",
              "    </tr>\n",
              "  </tbody>\n",
              "</table>\n",
              "</div>"
            ],
            "text/plain": [
              "   P_AGE  MNTH2  MNTH3  MNTH4  MNTH5  ...  SEXF  PUSER2  PUSER3  PUSER4  PUSER5\n",
              "0     75      0      0      0      0  ...     0       0       0       0       0\n",
              "5     26      0      0      0      0  ...     1       0       0       0       0\n",
              "6     34      0      0      0      0  ...     0       0       0       0       0\n",
              "7     20      0      0      0      0  ...     1       0       0       0       0\n",
              "8     80      0      0      0      0  ...     1       0       0       0       0\n",
              "\n",
              "[5 rows x 75 columns]"
            ]
          },
          "metadata": {
            "tags": []
          },
          "execution_count": 24
        }
      ]
    },
    {
      "cell_type": "code",
      "metadata": {
        "colab": {
          "base_uri": "https://localhost:8080/"
        },
        "id": "BB7hCji8zVS6",
        "outputId": "836ab1c9-ad0c-41e2-9848-e1aa5ccbec05"
      },
      "source": [
        "# Flatten array\n",
        "Y = np.ravel(Y)\n",
        "\n",
        "# Check result\n",
        "Y"
      ],
      "execution_count": 25,
      "outputs": [
        {
          "output_type": "execute_result",
          "data": {
            "text/plain": [
              "array([0, 0, 0, ..., 0, 0, 0])"
            ]
          },
          "metadata": {
            "tags": []
          },
          "execution_count": 25
        }
      ]
    },
    {
      "cell_type": "code",
      "metadata": {
        "colab": {
          "base_uri": "https://localhost:8080/"
        },
        "id": "GWzTB_ISzZxd",
        "outputId": "8b5b7822-27ac-45d2-9601-12c683643cbc"
      },
      "source": [
        "# Create LogisticRegression model\n",
        "log_model = LogisticRegression()\n",
        "\n",
        "# Fit our data\n",
        "log_model.fit(X,Y)\n",
        "\n",
        "# Check our accuracy\n",
        "log_model.score(X,Y)"
      ],
      "execution_count": 26,
      "outputs": [
        {
          "output_type": "stream",
          "text": [
            "/usr/local/lib/python3.7/dist-packages/sklearn/linear_model/_logistic.py:940: ConvergenceWarning: lbfgs failed to converge (status=1):\n",
            "STOP: TOTAL NO. of ITERATIONS REACHED LIMIT.\n",
            "\n",
            "Increase the number of iterations (max_iter) or scale the data as shown in:\n",
            "    https://scikit-learn.org/stable/modules/preprocessing.html\n",
            "Please also refer to the documentation for alternative solver options:\n",
            "    https://scikit-learn.org/stable/modules/linear_model.html#logistic-regression\n",
            "  extra_warning_msg=_LOGISTIC_SOLVER_CONVERGENCE_MSG)\n"
          ],
          "name": "stderr"
        },
        {
          "output_type": "execute_result",
          "data": {
            "text/plain": [
              "0.9933292267728643"
            ]
          },
          "metadata": {
            "tags": []
          },
          "execution_count": 26
        }
      ]
    },
    {
      "cell_type": "code",
      "metadata": {
        "colab": {
          "base_uri": "https://localhost:8080/"
        },
        "id": "yi8X2VuaBjHn",
        "outputId": "af31ce3e-daa8-4dc2-88ed-ddf4be5c3490"
      },
      "source": [
        "from sklearn.metrics import confusion_matrix\n",
        "confusion_matrix(Y, log_model.predict(X))"
      ],
      "execution_count": 27,
      "outputs": [
        {
          "output_type": "execute_result",
          "data": {
            "text/plain": [
              "array([[208024,      0],\n",
              "       [  1397,      0]])"
            ]
          },
          "metadata": {
            "tags": []
          },
          "execution_count": 27
        }
      ]
    },
    {
      "cell_type": "code",
      "metadata": {
        "colab": {
          "base_uri": "https://localhost:8080/",
          "height": 424
        },
        "id": "jq3Bz2EQz1at",
        "outputId": "db351b45-b4fe-49e3-93e1-27ea83f72c2a"
      },
      "source": [
        "# Show full table output\n",
        "# pd.set_option('display.max_rows', None)\n",
        "# Use zip to bring the column names and the np.transpose function to bring together the coefficients from the model\n",
        "coeff_df = pd.DataFrame(zip(X.columns,np.transpose(log_model.coef_)))\n",
        "coeff_df\n"
      ],
      "execution_count": 28,
      "outputs": [
        {
          "output_type": "execute_result",
          "data": {
            "text/html": [
              "<div>\n",
              "<style scoped>\n",
              "    .dataframe tbody tr th:only-of-type {\n",
              "        vertical-align: middle;\n",
              "    }\n",
              "\n",
              "    .dataframe tbody tr th {\n",
              "        vertical-align: top;\n",
              "    }\n",
              "\n",
              "    .dataframe thead th {\n",
              "        text-align: right;\n",
              "    }\n",
              "</style>\n",
              "<table border=\"1\" class=\"dataframe\">\n",
              "  <thead>\n",
              "    <tr style=\"text-align: right;\">\n",
              "      <th></th>\n",
              "      <th>0</th>\n",
              "      <th>1</th>\n",
              "    </tr>\n",
              "  </thead>\n",
              "  <tbody>\n",
              "    <tr>\n",
              "      <th>0</th>\n",
              "      <td>P_AGE</td>\n",
              "      <td>[0.01781662489064272]</td>\n",
              "    </tr>\n",
              "    <tr>\n",
              "      <th>1</th>\n",
              "      <td>MNTH2</td>\n",
              "      <td>[-0.4327535710470642]</td>\n",
              "    </tr>\n",
              "    <tr>\n",
              "      <th>2</th>\n",
              "      <td>MNTH3</td>\n",
              "      <td>[-0.2449432417635724]</td>\n",
              "    </tr>\n",
              "    <tr>\n",
              "      <th>3</th>\n",
              "      <td>MNTH4</td>\n",
              "      <td>[-0.24661346398067138]</td>\n",
              "    </tr>\n",
              "    <tr>\n",
              "      <th>4</th>\n",
              "      <td>MNTH5</td>\n",
              "      <td>[-0.37193964517670663]</td>\n",
              "    </tr>\n",
              "    <tr>\n",
              "      <th>...</th>\n",
              "      <td>...</td>\n",
              "      <td>...</td>\n",
              "    </tr>\n",
              "    <tr>\n",
              "      <th>70</th>\n",
              "      <td>SEXF</td>\n",
              "      <td>[-0.5391649556253498]</td>\n",
              "    </tr>\n",
              "    <tr>\n",
              "      <th>71</th>\n",
              "      <td>PUSER2</td>\n",
              "      <td>[0.16399790925461152]</td>\n",
              "    </tr>\n",
              "    <tr>\n",
              "      <th>72</th>\n",
              "      <td>PUSER3</td>\n",
              "      <td>[0.968929791421091]</td>\n",
              "    </tr>\n",
              "    <tr>\n",
              "      <th>73</th>\n",
              "      <td>PUSER4</td>\n",
              "      <td>[-0.06187966340975887]</td>\n",
              "    </tr>\n",
              "    <tr>\n",
              "      <th>74</th>\n",
              "      <td>PUSER5</td>\n",
              "      <td>[0.3229372194649295]</td>\n",
              "    </tr>\n",
              "  </tbody>\n",
              "</table>\n",
              "<p>75 rows × 2 columns</p>\n",
              "</div>"
            ],
            "text/plain": [
              "         0                       1\n",
              "0    P_AGE   [0.01781662489064272]\n",
              "1    MNTH2   [-0.4327535710470642]\n",
              "2    MNTH3   [-0.2449432417635724]\n",
              "3    MNTH4  [-0.24661346398067138]\n",
              "4    MNTH5  [-0.37193964517670663]\n",
              "..     ...                     ...\n",
              "70    SEXF   [-0.5391649556253498]\n",
              "71  PUSER2   [0.16399790925461152]\n",
              "72  PUSER3     [0.968929791421091]\n",
              "73  PUSER4  [-0.06187966340975887]\n",
              "74  PUSER5    [0.3229372194649295]\n",
              "\n",
              "[75 rows x 2 columns]"
            ]
          },
          "metadata": {
            "tags": []
          },
          "execution_count": 28
        }
      ]
    },
    {
      "cell_type": "markdown",
      "metadata": {
        "id": "2rMQ5Aw3z-X7"
      },
      "source": [
        "#### Test and train model using default settings (25% test)"
      ]
    },
    {
      "cell_type": "code",
      "metadata": {
        "id": "Qxx_SPMz0C19",
        "colab": {
          "base_uri": "https://localhost:8080/"
        },
        "outputId": "006d4ab7-a1bf-464a-ea3f-75189efdd797"
      },
      "source": [
        "# Split the data\n",
        "X_train, X_test, Y_train, Y_test = train_test_split(X,Y)\n",
        "\n",
        "# Make a new log_model\n",
        "log_model2 = LogisticRegression()\n",
        "\n",
        "# Now fit the new model\n",
        "log_model2.fit(X_train,Y_train)"
      ],
      "execution_count": 29,
      "outputs": [
        {
          "output_type": "stream",
          "text": [
            "/usr/local/lib/python3.7/dist-packages/sklearn/linear_model/_logistic.py:940: ConvergenceWarning: lbfgs failed to converge (status=1):\n",
            "STOP: TOTAL NO. of ITERATIONS REACHED LIMIT.\n",
            "\n",
            "Increase the number of iterations (max_iter) or scale the data as shown in:\n",
            "    https://scikit-learn.org/stable/modules/preprocessing.html\n",
            "Please also refer to the documentation for alternative solver options:\n",
            "    https://scikit-learn.org/stable/modules/linear_model.html#logistic-regression\n",
            "  extra_warning_msg=_LOGISTIC_SOLVER_CONVERGENCE_MSG)\n"
          ],
          "name": "stderr"
        },
        {
          "output_type": "execute_result",
          "data": {
            "text/plain": [
              "LogisticRegression(C=1.0, class_weight=None, dual=False, fit_intercept=True,\n",
              "                   intercept_scaling=1, l1_ratio=None, max_iter=100,\n",
              "                   multi_class='auto', n_jobs=None, penalty='l2',\n",
              "                   random_state=None, solver='lbfgs', tol=0.0001, verbose=0,\n",
              "                   warm_start=False)"
            ]
          },
          "metadata": {
            "tags": []
          },
          "execution_count": 29
        }
      ]
    },
    {
      "cell_type": "markdown",
      "metadata": {
        "id": "obDxlz3h3TJi"
      },
      "source": [
        "#### Compare accuracy, precision, recall scores"
      ]
    },
    {
      "cell_type": "code",
      "metadata": {
        "colab": {
          "base_uri": "https://localhost:8080/"
        },
        "id": "6Nzj1rJi0Hu1",
        "outputId": "8c9fa6ad-57fc-46c2-ca7c-38347d361891"
      },
      "source": [
        "# Predict the classes of the testing data set\n",
        "class_predict = log_model2.predict(X_test)\n",
        "\n",
        "# Compare the predicted classes to the actual test classes\n",
        "resultsDefault = metrics.accuracy_score(Y_test,class_predict)\n",
        "\n",
        "print(\"Accuracy: %.2f%%\" % (resultsDefault*100.0)) "
      ],
      "execution_count": 30,
      "outputs": [
        {
          "output_type": "stream",
          "text": [
            "Accuracy: 99.28%\n"
          ],
          "name": "stdout"
        }
      ]
    },
    {
      "cell_type": "code",
      "metadata": {
        "colab": {
          "base_uri": "https://localhost:8080/",
          "height": 306
        },
        "id": "9a91GicY5oiI",
        "outputId": "6bc4e60b-4c5b-4325-ee04-7b9cb1198116"
      },
      "source": [
        "# Obtain confusion matrix\n",
        "from sklearn.metrics import confusion_matrix\n",
        "confusion_matrix = confusion_matrix(Y_test, class_predict)\n",
        "print(confusion_matrix)\n",
        "plt.imshow(confusion_matrix, cmap='binary', interpolation='None')\n",
        "plt.show()"
      ],
      "execution_count": 31,
      "outputs": [
        {
          "output_type": "stream",
          "text": [
            "[[51977     0]\n",
            " [  379     0]]\n"
          ],
          "name": "stdout"
        },
        {
          "output_type": "display_data",
          "data": {
            "image/png": "[encoded data removed]",
            "text/plain": [
              "<Figure size 432x288 with 1 Axes>"
            ]
          },
          "metadata": {
            "tags": [],
            "needs_background": "light"
          }
        }
      ]
    },
    {
      "cell_type": "code",
      "metadata": {
        "colab": {
          "base_uri": "https://localhost:8080/"
        },
        "id": "HoeGxHLt5oz1",
        "outputId": "11bffd4a-81da-4425-e31d-17f97a4a4cdd"
      },
      "source": [
        "# Obtain precision, recall, F-measure and support\n",
        "from sklearn.metrics import classification_report\n",
        "print(classification_report(Y_test, class_predict))"
      ],
      "execution_count": 32,
      "outputs": [
        {
          "output_type": "stream",
          "text": [
            "              precision    recall  f1-score   support\n",
            "\n",
            "           0       0.99      1.00      1.00     51977\n",
            "           1       0.00      0.00      0.00       379\n",
            "\n",
            "    accuracy                           0.99     52356\n",
            "   macro avg       0.50      0.50      0.50     52356\n",
            "weighted avg       0.99      0.99      0.99     52356\n",
            "\n"
          ],
          "name": "stdout"
        },
        {
          "output_type": "stream",
          "text": [
            "/usr/local/lib/python3.7/dist-packages/sklearn/metrics/_classification.py:1272: UndefinedMetricWarning: Precision and F-score are ill-defined and being set to 0.0 in labels with no predicted samples. Use `zero_division` parameter to control this behavior.\n",
            "  _warn_prf(average, modifier, msg_start, len(result))\n"
          ],
          "name": "stderr"
        }
      ]
    },
    {
      "cell_type": "markdown",
      "metadata": {
        "id": "Y4WqVB6YGkrb"
      },
      "source": [
        "#### Perform k-fold cross validation using k = 10"
      ]
    },
    {
      "cell_type": "code",
      "metadata": {
        "id": "A7JzOwTmGopW",
        "colab": {
          "base_uri": "https://localhost:8080/"
        },
        "outputId": "86ab4ccb-2cda-4a2a-fe53-8589ed52cc1e"
      },
      "source": [
        "# perform k-fold cross validation and calculate the accuracy\n",
        "from sklearn.model_selection import KFold\n",
        "from sklearn.model_selection import cross_val_score\n",
        "kfold = KFold(n_splits=10, random_state=1, shuffle=True)\n",
        "model_kfold = LogisticRegression()\n",
        "results_kfold = cross_val_score(model_kfold, X, Y, cv=kfold)\n",
        "print(\"Accuracy: %.2f%%\" % (results_kfold.mean()*100.0)) "
      ],
      "execution_count": 33,
      "outputs": [
        {
          "output_type": "stream",
          "text": [
            "/usr/local/lib/python3.7/dist-packages/sklearn/linear_model/_logistic.py:940: ConvergenceWarning: lbfgs failed to converge (status=1):\n",
            "STOP: TOTAL NO. of ITERATIONS REACHED LIMIT.\n",
            "\n",
            "Increase the number of iterations (max_iter) or scale the data as shown in:\n",
            "    https://scikit-learn.org/stable/modules/preprocessing.html\n",
            "Please also refer to the documentation for alternative solver options:\n",
            "    https://scikit-learn.org/stable/modules/linear_model.html#logistic-regression\n",
            "  extra_warning_msg=_LOGISTIC_SOLVER_CONVERGENCE_MSG)\n",
            "/usr/local/lib/python3.7/dist-packages/sklearn/linear_model/_logistic.py:940: ConvergenceWarning: lbfgs failed to converge (status=1):\n",
            "STOP: TOTAL NO. of ITERATIONS REACHED LIMIT.\n",
            "\n",
            "Increase the number of iterations (max_iter) or scale the data as shown in:\n",
            "    https://scikit-learn.org/stable/modules/preprocessing.html\n",
            "Please also refer to the documentation for alternative solver options:\n",
            "    https://scikit-learn.org/stable/modules/linear_model.html#logistic-regression\n",
            "  extra_warning_msg=_LOGISTIC_SOLVER_CONVERGENCE_MSG)\n",
            "/usr/local/lib/python3.7/dist-packages/sklearn/linear_model/_logistic.py:940: ConvergenceWarning: lbfgs failed to converge (status=1):\n",
            "STOP: TOTAL NO. of ITERATIONS REACHED LIMIT.\n",
            "\n",
            "Increase the number of iterations (max_iter) or scale the data as shown in:\n",
            "    https://scikit-learn.org/stable/modules/preprocessing.html\n",
            "Please also refer to the documentation for alternative solver options:\n",
            "    https://scikit-learn.org/stable/modules/linear_model.html#logistic-regression\n",
            "  extra_warning_msg=_LOGISTIC_SOLVER_CONVERGENCE_MSG)\n",
            "/usr/local/lib/python3.7/dist-packages/sklearn/linear_model/_logistic.py:940: ConvergenceWarning: lbfgs failed to converge (status=1):\n",
            "STOP: TOTAL NO. of ITERATIONS REACHED LIMIT.\n",
            "\n",
            "Increase the number of iterations (max_iter) or scale the data as shown in:\n",
            "    https://scikit-learn.org/stable/modules/preprocessing.html\n",
            "Please also refer to the documentation for alternative solver options:\n",
            "    https://scikit-learn.org/stable/modules/linear_model.html#logistic-regression\n",
            "  extra_warning_msg=_LOGISTIC_SOLVER_CONVERGENCE_MSG)\n",
            "/usr/local/lib/python3.7/dist-packages/sklearn/linear_model/_logistic.py:940: ConvergenceWarning: lbfgs failed to converge (status=1):\n",
            "STOP: TOTAL NO. of ITERATIONS REACHED LIMIT.\n",
            "\n",
            "Increase the number of iterations (max_iter) or scale the data as shown in:\n",
            "    https://scikit-learn.org/stable/modules/preprocessing.html\n",
            "Please also refer to the documentation for alternative solver options:\n",
            "    https://scikit-learn.org/stable/modules/linear_model.html#logistic-regression\n",
            "  extra_warning_msg=_LOGISTIC_SOLVER_CONVERGENCE_MSG)\n",
            "/usr/local/lib/python3.7/dist-packages/sklearn/linear_model/_logistic.py:940: ConvergenceWarning: lbfgs failed to converge (status=1):\n",
            "STOP: TOTAL NO. of ITERATIONS REACHED LIMIT.\n",
            "\n",
            "Increase the number of iterations (max_iter) or scale the data as shown in:\n",
            "    https://scikit-learn.org/stable/modules/preprocessing.html\n",
            "Please also refer to the documentation for alternative solver options:\n",
            "    https://scikit-learn.org/stable/modules/linear_model.html#logistic-regression\n",
            "  extra_warning_msg=_LOGISTIC_SOLVER_CONVERGENCE_MSG)\n",
            "/usr/local/lib/python3.7/dist-packages/sklearn/linear_model/_logistic.py:940: ConvergenceWarning: lbfgs failed to converge (status=1):\n",
            "STOP: TOTAL NO. of ITERATIONS REACHED LIMIT.\n",
            "\n",
            "Increase the number of iterations (max_iter) or scale the data as shown in:\n",
            "    https://scikit-learn.org/stable/modules/preprocessing.html\n",
            "Please also refer to the documentation for alternative solver options:\n",
            "    https://scikit-learn.org/stable/modules/linear_model.html#logistic-regression\n",
            "  extra_warning_msg=_LOGISTIC_SOLVER_CONVERGENCE_MSG)\n",
            "/usr/local/lib/python3.7/dist-packages/sklearn/linear_model/_logistic.py:940: ConvergenceWarning: lbfgs failed to converge (status=1):\n",
            "STOP: TOTAL NO. of ITERATIONS REACHED LIMIT.\n",
            "\n",
            "Increase the number of iterations (max_iter) or scale the data as shown in:\n",
            "    https://scikit-learn.org/stable/modules/preprocessing.html\n",
            "Please also refer to the documentation for alternative solver options:\n",
            "    https://scikit-learn.org/stable/modules/linear_model.html#logistic-regression\n",
            "  extra_warning_msg=_LOGISTIC_SOLVER_CONVERGENCE_MSG)\n",
            "/usr/local/lib/python3.7/dist-packages/sklearn/linear_model/_logistic.py:940: ConvergenceWarning: lbfgs failed to converge (status=1):\n",
            "STOP: TOTAL NO. of ITERATIONS REACHED LIMIT.\n",
            "\n",
            "Increase the number of iterations (max_iter) or scale the data as shown in:\n",
            "    https://scikit-learn.org/stable/modules/preprocessing.html\n",
            "Please also refer to the documentation for alternative solver options:\n",
            "    https://scikit-learn.org/stable/modules/linear_model.html#logistic-regression\n",
            "  extra_warning_msg=_LOGISTIC_SOLVER_CONVERGENCE_MSG)\n"
          ],
          "name": "stderr"
        },
        {
          "output_type": "stream",
          "text": [
            "Accuracy: 99.33%\n"
          ],
          "name": "stdout"
        },
        {
          "output_type": "stream",
          "text": [
            "/usr/local/lib/python3.7/dist-packages/sklearn/linear_model/_logistic.py:940: ConvergenceWarning: lbfgs failed to converge (status=1):\n",
            "STOP: TOTAL NO. of ITERATIONS REACHED LIMIT.\n",
            "\n",
            "Increase the number of iterations (max_iter) or scale the data as shown in:\n",
            "    https://scikit-learn.org/stable/modules/preprocessing.html\n",
            "Please also refer to the documentation for alternative solver options:\n",
            "    https://scikit-learn.org/stable/modules/linear_model.html#logistic-regression\n",
            "  extra_warning_msg=_LOGISTIC_SOLVER_CONVERGENCE_MSG)\n"
          ],
          "name": "stderr"
        }
      ]
    },
    {
      "cell_type": "code",
      "metadata": {
        "colab": {
          "base_uri": "https://localhost:8080/"
        },
        "id": "Nvk0kG6rkLsF",
        "outputId": "66aca96f-26d6-4340-d1cc-557388410a42"
      },
      "source": [
        "# perform k-fold cross validation and generate the corresponding confusion matrix\n",
        "from sklearn.pipeline import make_pipeline\n",
        "from sklearn.model_selection import cross_val_predict\n",
        "from sklearn.metrics import confusion_matrix\n",
        "from sklearn.preprocessing import MinMaxScaler\n",
        "clf = make_pipeline(MinMaxScaler(), LogisticRegression())\n",
        "y_pred = cross_val_predict(clf, X, Y, cv=10)\n",
        "conf_matKfold = confusion_matrix(Y, y_pred)"
      ],
      "execution_count": 34,
      "outputs": [
        {
          "output_type": "stream",
          "text": [
            "/usr/local/lib/python3.7/dist-packages/sklearn/linear_model/_logistic.py:940: ConvergenceWarning: lbfgs failed to converge (status=1):\n",
            "STOP: TOTAL NO. of ITERATIONS REACHED LIMIT.\n",
            "\n",
            "Increase the number of iterations (max_iter) or scale the data as shown in:\n",
            "    https://scikit-learn.org/stable/modules/preprocessing.html\n",
            "Please also refer to the documentation for alternative solver options:\n",
            "    https://scikit-learn.org/stable/modules/linear_model.html#logistic-regression\n",
            "  extra_warning_msg=_LOGISTIC_SOLVER_CONVERGENCE_MSG)\n",
            "/usr/local/lib/python3.7/dist-packages/sklearn/linear_model/_logistic.py:940: ConvergenceWarning: lbfgs failed to converge (status=1):\n",
            "STOP: TOTAL NO. of ITERATIONS REACHED LIMIT.\n",
            "\n",
            "Increase the number of iterations (max_iter) or scale the data as shown in:\n",
            "    https://scikit-learn.org/stable/modules/preprocessing.html\n",
            "Please also refer to the documentation for alternative solver options:\n",
            "    https://scikit-learn.org/stable/modules/linear_model.html#logistic-regression\n",
            "  extra_warning_msg=_LOGISTIC_SOLVER_CONVERGENCE_MSG)\n",
            "/usr/local/lib/python3.7/dist-packages/sklearn/linear_model/_logistic.py:940: ConvergenceWarning: lbfgs failed to converge (status=1):\n",
            "STOP: TOTAL NO. of ITERATIONS REACHED LIMIT.\n",
            "\n",
            "Increase the number of iterations (max_iter) or scale the data as shown in:\n",
            "    https://scikit-learn.org/stable/modules/preprocessing.html\n",
            "Please also refer to the documentation for alternative solver options:\n",
            "    https://scikit-learn.org/stable/modules/linear_model.html#logistic-regression\n",
            "  extra_warning_msg=_LOGISTIC_SOLVER_CONVERGENCE_MSG)\n",
            "/usr/local/lib/python3.7/dist-packages/sklearn/linear_model/_logistic.py:940: ConvergenceWarning: lbfgs failed to converge (status=1):\n",
            "STOP: TOTAL NO. of ITERATIONS REACHED LIMIT.\n",
            "\n",
            "Increase the number of iterations (max_iter) or scale the data as shown in:\n",
            "    https://scikit-learn.org/stable/modules/preprocessing.html\n",
            "Please also refer to the documentation for alternative solver options:\n",
            "    https://scikit-learn.org/stable/modules/linear_model.html#logistic-regression\n",
            "  extra_warning_msg=_LOGISTIC_SOLVER_CONVERGENCE_MSG)\n",
            "/usr/local/lib/python3.7/dist-packages/sklearn/linear_model/_logistic.py:940: ConvergenceWarning: lbfgs failed to converge (status=1):\n",
            "STOP: TOTAL NO. of ITERATIONS REACHED LIMIT.\n",
            "\n",
            "Increase the number of iterations (max_iter) or scale the data as shown in:\n",
            "    https://scikit-learn.org/stable/modules/preprocessing.html\n",
            "Please also refer to the documentation for alternative solver options:\n",
            "    https://scikit-learn.org/stable/modules/linear_model.html#logistic-regression\n",
            "  extra_warning_msg=_LOGISTIC_SOLVER_CONVERGENCE_MSG)\n",
            "/usr/local/lib/python3.7/dist-packages/sklearn/linear_model/_logistic.py:940: ConvergenceWarning: lbfgs failed to converge (status=1):\n",
            "STOP: TOTAL NO. of ITERATIONS REACHED LIMIT.\n",
            "\n",
            "Increase the number of iterations (max_iter) or scale the data as shown in:\n",
            "    https://scikit-learn.org/stable/modules/preprocessing.html\n",
            "Please also refer to the documentation for alternative solver options:\n",
            "    https://scikit-learn.org/stable/modules/linear_model.html#logistic-regression\n",
            "  extra_warning_msg=_LOGISTIC_SOLVER_CONVERGENCE_MSG)\n",
            "/usr/local/lib/python3.7/dist-packages/sklearn/linear_model/_logistic.py:940: ConvergenceWarning: lbfgs failed to converge (status=1):\n",
            "STOP: TOTAL NO. of ITERATIONS REACHED LIMIT.\n",
            "\n",
            "Increase the number of iterations (max_iter) or scale the data as shown in:\n",
            "    https://scikit-learn.org/stable/modules/preprocessing.html\n",
            "Please also refer to the documentation for alternative solver options:\n",
            "    https://scikit-learn.org/stable/modules/linear_model.html#logistic-regression\n",
            "  extra_warning_msg=_LOGISTIC_SOLVER_CONVERGENCE_MSG)\n",
            "/usr/local/lib/python3.7/dist-packages/sklearn/linear_model/_logistic.py:940: ConvergenceWarning: lbfgs failed to converge (status=1):\n",
            "STOP: TOTAL NO. of ITERATIONS REACHED LIMIT.\n",
            "\n",
            "Increase the number of iterations (max_iter) or scale the data as shown in:\n",
            "    https://scikit-learn.org/stable/modules/preprocessing.html\n",
            "Please also refer to the documentation for alternative solver options:\n",
            "    https://scikit-learn.org/stable/modules/linear_model.html#logistic-regression\n",
            "  extra_warning_msg=_LOGISTIC_SOLVER_CONVERGENCE_MSG)\n",
            "/usr/local/lib/python3.7/dist-packages/sklearn/linear_model/_logistic.py:940: ConvergenceWarning: lbfgs failed to converge (status=1):\n",
            "STOP: TOTAL NO. of ITERATIONS REACHED LIMIT.\n",
            "\n",
            "Increase the number of iterations (max_iter) or scale the data as shown in:\n",
            "    https://scikit-learn.org/stable/modules/preprocessing.html\n",
            "Please also refer to the documentation for alternative solver options:\n",
            "    https://scikit-learn.org/stable/modules/linear_model.html#logistic-regression\n",
            "  extra_warning_msg=_LOGISTIC_SOLVER_CONVERGENCE_MSG)\n",
            "/usr/local/lib/python3.7/dist-packages/sklearn/linear_model/_logistic.py:940: ConvergenceWarning: lbfgs failed to converge (status=1):\n",
            "STOP: TOTAL NO. of ITERATIONS REACHED LIMIT.\n",
            "\n",
            "Increase the number of iterations (max_iter) or scale the data as shown in:\n",
            "    https://scikit-learn.org/stable/modules/preprocessing.html\n",
            "Please also refer to the documentation for alternative solver options:\n",
            "    https://scikit-learn.org/stable/modules/linear_model.html#logistic-regression\n",
            "  extra_warning_msg=_LOGISTIC_SOLVER_CONVERGENCE_MSG)\n"
          ],
          "name": "stderr"
        }
      ]
    }
  ]
}