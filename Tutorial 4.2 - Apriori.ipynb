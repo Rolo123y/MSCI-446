{
 "cells": [
  {
   "cell_type": "code",
   "execution_count": 0,
   "metadata": {
    "colab": {},
    "colab_type": "code",
    "id": "rH5GGbxRNL0e"
   },
   "outputs": [],
   "source": [
    "# Import necessary python libraries\n",
    "import pandas as pd\n",
    "import csv\n",
    "from mlxtend.preprocessing import TransactionEncoder\n",
    "from mlxtend.frequent_patterns import apriori, association_rules"
   ]
  },
  {
   "cell_type": "code",
   "execution_count": 4,
   "metadata": {
    "colab": {
     "base_uri": "https://localhost:8080/",
     "height": 102
    },
    "colab_type": "code",
    "id": "IKTDmonPNL0q",
    "outputId": "044acdad-0e0e-4f57-bb90-9a0c6ac94f00",
    "scrolled": true
   },
   "outputs": [
    {
     "name": "stdout",
     "output_type": "stream",
     "text": [
      "['Milk', 'Onion', 'Nutmeg', 'Kidney Beans', 'Eggs', 'Yogurt']\n",
      "['Dill', 'Onion', 'Nutmeg', 'Kidney Beans', 'Eggs', 'Yogurt']\n",
      "['Milk', 'Apple', 'Kidney Beans', 'Eggs', '', '']\n",
      "['Milk', 'Unicorn', 'Corn', 'Kidney Beans', 'Yogurt', '']\n",
      "['Corn', 'Onion', 'Onion', 'Kidney Beans', 'Ice Cream', 'Eggs']\n"
     ]
    }
   ],
   "source": [
    "# Read in CSV file into an array of arrays\n",
    "dataset = []\n",
    "with open('aprioriData1.csv') as f:\n",
    "\treader = csv.reader(f)\n",
    "\tfor row in reader:\n",
    "\t\tdataset.append(row)\n",
    "for row in dataset:\n",
    "\tprint(row)\n"
   ]
  },
  {
   "cell_type": "code",
   "execution_count": 6,
   "metadata": {
    "colab": {
     "base_uri": "https://localhost:8080/",
     "height": 153
    },
    "colab_type": "code",
    "id": "A1kPb9BMNL02",
    "outputId": "48b15ada-e0d4-4821-a9bd-e9b07a35c02f"
   },
   "outputs": [
    {
     "name": "stdout",
     "output_type": "stream",
     "text": [
      "          Apple   Corn   Dill   Eggs  ...   Milk  Nutmeg  Onion  Unicorn  Yogurt\n",
      "0  False  False  False  False   True  ...   True    True   True    False    True\n",
      "1  False  False  False   True   True  ...  False    True   True    False    True\n",
      "2   True   True  False  False   True  ...   True   False  False    False   False\n",
      "3   True  False   True  False  False  ...   True   False  False     True    True\n",
      "4  False  False   True  False   True  ...  False   False   True    False   False\n",
      "\n",
      "[5 rows x 12 columns]\n"
     ]
    }
   ],
   "source": [
    "# Transform your data for the apriori algorithm\n",
    "oht = TransactionEncoder()\n",
    "oht_array = oht.fit(dataset).transform(dataset)\n",
    "df = pd.DataFrame(oht_array, columns=oht.columns_)\n",
    "print(df)"
   ]
  },
  {
   "cell_type": "code",
   "execution_count": 7,
   "metadata": {
    "colab": {
     "base_uri": "https://localhost:8080/",
     "height": 221
    },
    "colab_type": "code",
    "id": "HxRlFDkVNL0-",
    "outputId": "c73879cc-9571-4d29-edc0-15c1ff4dbcb4"
   },
   "outputs": [
    {
     "name": "stdout",
     "output_type": "stream",
     "text": [
      "    support                     itemsets\n",
      "0       0.8                       (Eggs)\n",
      "1       1.0               (Kidney Beans)\n",
      "2       0.6                       (Milk)\n",
      "3       0.6                      (Onion)\n",
      "4       0.6                     (Yogurt)\n",
      "5       0.8         (Kidney Beans, Eggs)\n",
      "6       0.6                (Onion, Eggs)\n",
      "7       0.6         (Kidney Beans, Milk)\n",
      "8       0.6        (Kidney Beans, Onion)\n",
      "9       0.6       (Kidney Beans, Yogurt)\n",
      "10      0.6  (Kidney Beans, Onion, Eggs)\n"
     ]
    }
   ],
   "source": [
    "frequent_itemsets = apriori(df,min_support=0.6,use_colnames=True)\n",
    "print(frequent_itemsets)"
   ]
  },
  {
   "cell_type": "code",
   "execution_count": 9,
   "metadata": {
    "colab": {
     "base_uri": "https://localhost:8080/",
     "height": 238
    },
    "colab_type": "code",
    "id": "NDE2ZcrmNL1N",
    "outputId": "b423810f-98fc-4b5b-b699-6d570246f773"
   },
   "outputs": [
    {
     "name": "stdout",
     "output_type": "stream",
     "text": [
      "              antecedents            consequents  support  confidence\n",
      "0          (Kidney Beans)                 (Eggs)      0.8        0.80\n",
      "1                  (Eggs)         (Kidney Beans)      0.8        1.00\n",
      "2                 (Onion)                 (Eggs)      0.6        1.00\n",
      "3                  (Eggs)                (Onion)      0.6        0.75\n",
      "4                  (Milk)         (Kidney Beans)      0.6        1.00\n",
      "5                 (Onion)         (Kidney Beans)      0.6        1.00\n",
      "6                (Yogurt)         (Kidney Beans)      0.6        1.00\n",
      "7   (Kidney Beans, Onion)                 (Eggs)      0.6        1.00\n",
      "8    (Kidney Beans, Eggs)                (Onion)      0.6        0.75\n",
      "9           (Onion, Eggs)         (Kidney Beans)      0.6        1.00\n",
      "10                (Onion)   (Kidney Beans, Eggs)      0.6        1.00\n",
      "11                 (Eggs)  (Kidney Beans, Onion)      0.6        0.75\n"
     ]
    }
   ],
   "source": [
    "rules = association_rules(frequent_itemsets,metric='confidence',min_threshold=0.7)\n",
    "print(rules[['antecedents','consequents','support','confidence']])"
   ]
  },
  {
   "cell_type": "code",
   "execution_count": 0,
   "metadata": {
    "colab": {},
    "colab_type": "code",
    "id": "qL86DqCwREFS"
   },
   "outputs": [],
   "source": []
  }
 ],
 "metadata": {
  "colab": {
   "collapsed_sections": [],
   "name": "Tutorial  - Apirori.ipynb",
   "provenance": []
  },
  "kernelspec": {
   "display_name": "Python 3",
   "language": "python",
   "name": "python3"
  },
  "language_info": {
   "codemirror_mode": {
    "name": "ipython",
    "version": 3
   },
   "file_extension": ".py",
   "mimetype": "text/x-python",
   "name": "python",
   "nbconvert_exporter": "python",
   "pygments_lexer": "ipython3",
   "version": "3.8.3"
  },
  "varInspector": {
   "cols": {
    "lenName": 16,
    "lenType": 16,
    "lenVar": 40
   },
   "kernels_config": {
    "python": {
     "delete_cmd_postfix": "",
     "delete_cmd_prefix": "del ",
     "library": "var_list.py",
     "varRefreshCmd": "print(var_dic_list())"
    },
    "r": {
     "delete_cmd_postfix": ") ",
     "delete_cmd_prefix": "rm(",
     "library": "var_list.r",
     "varRefreshCmd": "cat(var_dic_list()) "
    }
   },
   "types_to_exclude": [
    "module",
    "function",
    "builtin_function_or_method",
    "instance",
    "_Feature"
   ],
   "window_display": false
  }
 },
 "nbformat": 4,
 "nbformat_minor": 1
}
